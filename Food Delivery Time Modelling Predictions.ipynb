{
 "cells": [
  {
   "cell_type": "code",
   "execution_count": 1,
   "metadata": {
    "ExecuteTime": {
     "end_time": "2020-08-01T18:37:03.707959Z",
     "start_time": "2020-08-01T18:37:03.694992Z"
    }
   },
   "outputs": [
    {
     "data": {
      "text/html": [
       "<style>.container { width:100% !important; }</style>"
      ],
      "text/plain": [
       "<IPython.core.display.HTML object>"
      ]
     },
     "metadata": {},
     "output_type": "display_data"
    }
   ],
   "source": [
    "# change the cell width\n",
    "from IPython.core.display import display, HTML\n",
    "display(HTML(\"<style>.container { width:100% !important; }</style>\"))"
   ]
  },
  {
   "cell_type": "code",
   "execution_count": 2,
   "metadata": {
    "ExecuteTime": {
     "end_time": "2020-08-01T18:37:05.067526Z",
     "start_time": "2020-08-01T18:37:03.709953Z"
    }
   },
   "outputs": [],
   "source": [
    "import pandas as pd\n",
    "pd.set_option('display.max_rows',None)\n",
    "pd.set_option('display.max_columns', None)"
   ]
  },
  {
   "cell_type": "code",
   "execution_count": 3,
   "metadata": {
    "ExecuteTime": {
     "end_time": "2020-08-01T18:37:07.007246Z",
     "start_time": "2020-08-01T18:37:05.070517Z"
    }
   },
   "outputs": [],
   "source": [
    "import pandas as pd\n",
    "import numpy as np\n",
    "import matplotlib\n",
    "import matplotlib.pyplot as plt\n",
    "import seaborn as sns\n",
    "import missingno\n",
    "import matplotlib as mpl\n",
    "mpl.style.use('bmh')"
   ]
  },
  {
   "cell_type": "code",
   "execution_count": 4,
   "metadata": {
    "ExecuteTime": {
     "end_time": "2020-08-01T18:37:20.520490Z",
     "start_time": "2020-08-01T18:37:07.014058Z"
    }
   },
   "outputs": [],
   "source": [
    "import scipy.stats as stats\n",
    "from scipy.stats import zscore\n",
    "import statsmodels.formula.api as smf\n",
    "import statsmodels.api as sm\n",
    "from sklearn.linear_model import LogisticRegression\n",
    "from sklearn.preprocessing import StandardScaler, binarize, MinMaxScaler\n",
    "from sklearn.model_selection import train_test_split,RandomizedSearchCV, KFold, cross_val_score, GridSearchCV, StratifiedKFold, cross_val_predict\n",
    "from sklearn.metrics import roc_curve,roc_auc_score, accuracy_score, cohen_kappa_score, jaccard_score, confusion_matrix, plot_confusion_matrix, precision_score, recall_score, classification_report\n",
    "from scipy.stats import shapiro , levene , mannwhitneyu , chi2_contingency , chisquare, f_oneway\n",
    "from sklearn.tree import DecisionTreeClassifier\n",
    "from sklearn.ensemble import RandomForestClassifier\n",
    "from sklearn.neighbors import KNeighborsClassifier\n",
    "from sklearn.naive_bayes import GaussianNB\n",
    "from sklearn.ensemble import RandomForestClassifier, BaggingClassifier, AdaBoostClassifier, GradientBoostingClassifier, VotingClassifier\n",
    "import xgboost as xgb\n",
    "\n",
    "from warnings import filterwarnings\n",
    "filterwarnings('ignore')"
   ]
  },
  {
   "cell_type": "code",
   "execution_count": null,
   "metadata": {},
   "outputs": [],
   "source": []
  },
  {
   "cell_type": "markdown",
   "metadata": {},
   "source": [
    "# Read the Datasets"
   ]
  },
  {
   "cell_type": "code",
   "execution_count": 5,
   "metadata": {
    "ExecuteTime": {
     "end_time": "2020-08-01T18:37:20.765044Z",
     "start_time": "2020-08-01T18:37:20.526428Z"
    }
   },
   "outputs": [
    {
     "data": {
      "text/html": [
       "<div>\n",
       "<style scoped>\n",
       "    .dataframe tbody tr th:only-of-type {\n",
       "        vertical-align: middle;\n",
       "    }\n",
       "\n",
       "    .dataframe tbody tr th {\n",
       "        vertical-align: top;\n",
       "    }\n",
       "\n",
       "    .dataframe thead th {\n",
       "        text-align: right;\n",
       "    }\n",
       "</style>\n",
       "<table border=\"1\" class=\"dataframe\">\n",
       "  <thead>\n",
       "    <tr style=\"text-align: right;\">\n",
       "      <th></th>\n",
       "      <th>Average_Cost</th>\n",
       "      <th>Minimum_Order</th>\n",
       "      <th>Rating</th>\n",
       "      <th>Votes</th>\n",
       "      <th>Reviews</th>\n",
       "      <th>Fast Food</th>\n",
       "      <th>Main Course</th>\n",
       "      <th>Beverage</th>\n",
       "      <th>Desert</th>\n",
       "      <th>Place_Bangalore</th>\n",
       "      <th>Place_Delhi</th>\n",
       "      <th>Place_Gurgaon</th>\n",
       "      <th>Place_Hyderabad</th>\n",
       "      <th>Place_Kolkata</th>\n",
       "      <th>Place_Mumbai</th>\n",
       "      <th>Place_Noida</th>\n",
       "      <th>Place_Pune</th>\n",
       "      <th>Delivery_Time_mins</th>\n",
       "    </tr>\n",
       "  </thead>\n",
       "  <tbody>\n",
       "    <tr>\n",
       "      <th>0</th>\n",
       "      <td>200.0</td>\n",
       "      <td>50.0</td>\n",
       "      <td>3.5</td>\n",
       "      <td>12.0</td>\n",
       "      <td>4.0</td>\n",
       "      <td>1.0</td>\n",
       "      <td>1.0</td>\n",
       "      <td>0.0</td>\n",
       "      <td>0.0</td>\n",
       "      <td>0.0</td>\n",
       "      <td>0.0</td>\n",
       "      <td>0.0</td>\n",
       "      <td>0.0</td>\n",
       "      <td>0.0</td>\n",
       "      <td>0.0</td>\n",
       "      <td>0.0</td>\n",
       "      <td>1.0</td>\n",
       "      <td>30.0</td>\n",
       "    </tr>\n",
       "    <tr>\n",
       "      <th>1</th>\n",
       "      <td>100.0</td>\n",
       "      <td>50.0</td>\n",
       "      <td>3.5</td>\n",
       "      <td>11.0</td>\n",
       "      <td>4.0</td>\n",
       "      <td>0.0</td>\n",
       "      <td>0.0</td>\n",
       "      <td>0.0</td>\n",
       "      <td>1.0</td>\n",
       "      <td>1.0</td>\n",
       "      <td>0.0</td>\n",
       "      <td>0.0</td>\n",
       "      <td>0.0</td>\n",
       "      <td>0.0</td>\n",
       "      <td>0.0</td>\n",
       "      <td>0.0</td>\n",
       "      <td>0.0</td>\n",
       "      <td>30.0</td>\n",
       "    </tr>\n",
       "    <tr>\n",
       "      <th>2</th>\n",
       "      <td>150.0</td>\n",
       "      <td>50.0</td>\n",
       "      <td>3.6</td>\n",
       "      <td>99.0</td>\n",
       "      <td>30.0</td>\n",
       "      <td>1.0</td>\n",
       "      <td>1.0</td>\n",
       "      <td>0.0</td>\n",
       "      <td>0.0</td>\n",
       "      <td>0.0</td>\n",
       "      <td>0.0</td>\n",
       "      <td>0.0</td>\n",
       "      <td>0.0</td>\n",
       "      <td>0.0</td>\n",
       "      <td>1.0</td>\n",
       "      <td>0.0</td>\n",
       "      <td>0.0</td>\n",
       "      <td>65.0</td>\n",
       "    </tr>\n",
       "    <tr>\n",
       "      <th>3</th>\n",
       "      <td>250.0</td>\n",
       "      <td>99.0</td>\n",
       "      <td>3.7</td>\n",
       "      <td>176.0</td>\n",
       "      <td>95.0</td>\n",
       "      <td>0.0</td>\n",
       "      <td>1.0</td>\n",
       "      <td>0.0</td>\n",
       "      <td>0.0</td>\n",
       "      <td>0.0</td>\n",
       "      <td>0.0</td>\n",
       "      <td>0.0</td>\n",
       "      <td>0.0</td>\n",
       "      <td>0.0</td>\n",
       "      <td>0.0</td>\n",
       "      <td>1.0</td>\n",
       "      <td>0.0</td>\n",
       "      <td>30.0</td>\n",
       "    </tr>\n",
       "    <tr>\n",
       "      <th>4</th>\n",
       "      <td>200.0</td>\n",
       "      <td>99.0</td>\n",
       "      <td>3.2</td>\n",
       "      <td>521.0</td>\n",
       "      <td>235.0</td>\n",
       "      <td>1.0</td>\n",
       "      <td>0.0</td>\n",
       "      <td>1.0</td>\n",
       "      <td>0.0</td>\n",
       "      <td>1.0</td>\n",
       "      <td>0.0</td>\n",
       "      <td>0.0</td>\n",
       "      <td>0.0</td>\n",
       "      <td>0.0</td>\n",
       "      <td>0.0</td>\n",
       "      <td>0.0</td>\n",
       "      <td>0.0</td>\n",
       "      <td>65.0</td>\n",
       "    </tr>\n",
       "  </tbody>\n",
       "</table>\n",
       "</div>"
      ],
      "text/plain": [
       "   Average_Cost  Minimum_Order  Rating  Votes  Reviews  Fast Food  \\\n",
       "0         200.0           50.0     3.5   12.0      4.0        1.0   \n",
       "1         100.0           50.0     3.5   11.0      4.0        0.0   \n",
       "2         150.0           50.0     3.6   99.0     30.0        1.0   \n",
       "3         250.0           99.0     3.7  176.0     95.0        0.0   \n",
       "4         200.0           99.0     3.2  521.0    235.0        1.0   \n",
       "\n",
       "   Main Course  Beverage  Desert  Place_Bangalore  Place_Delhi  Place_Gurgaon  \\\n",
       "0          1.0       0.0     0.0              0.0          0.0            0.0   \n",
       "1          0.0       0.0     1.0              1.0          0.0            0.0   \n",
       "2          1.0       0.0     0.0              0.0          0.0            0.0   \n",
       "3          1.0       0.0     0.0              0.0          0.0            0.0   \n",
       "4          0.0       1.0     0.0              1.0          0.0            0.0   \n",
       "\n",
       "   Place_Hyderabad  Place_Kolkata  Place_Mumbai  Place_Noida  Place_Pune  \\\n",
       "0              0.0            0.0           0.0          0.0         1.0   \n",
       "1              0.0            0.0           0.0          0.0         0.0   \n",
       "2              0.0            0.0           1.0          0.0         0.0   \n",
       "3              0.0            0.0           0.0          1.0         0.0   \n",
       "4              0.0            0.0           0.0          0.0         0.0   \n",
       "\n",
       "   Delivery_Time_mins  \n",
       "0                30.0  \n",
       "1                30.0  \n",
       "2                65.0  \n",
       "3                30.0  \n",
       "4                65.0  "
      ]
     },
     "execution_count": 5,
     "metadata": {},
     "output_type": "execute_result"
    }
   ],
   "source": [
    "df_final_train = pd.read_csv(\"final_train.csv\")\n",
    "df_final_train.head()"
   ]
  },
  {
   "cell_type": "code",
   "execution_count": 6,
   "metadata": {
    "ExecuteTime": {
     "end_time": "2020-08-01T18:37:21.055395Z",
     "start_time": "2020-08-01T18:37:20.766033Z"
    }
   },
   "outputs": [
    {
     "data": {
      "text/html": [
       "<div>\n",
       "<style scoped>\n",
       "    .dataframe tbody tr th:only-of-type {\n",
       "        vertical-align: middle;\n",
       "    }\n",
       "\n",
       "    .dataframe tbody tr th {\n",
       "        vertical-align: top;\n",
       "    }\n",
       "\n",
       "    .dataframe thead th {\n",
       "        text-align: right;\n",
       "    }\n",
       "</style>\n",
       "<table border=\"1\" class=\"dataframe\">\n",
       "  <thead>\n",
       "    <tr style=\"text-align: right;\">\n",
       "      <th></th>\n",
       "      <th>Average_Cost</th>\n",
       "      <th>Minimum_Order</th>\n",
       "      <th>Rating</th>\n",
       "      <th>Votes</th>\n",
       "      <th>Reviews</th>\n",
       "      <th>Fast Food</th>\n",
       "      <th>Main Course</th>\n",
       "      <th>Beverage</th>\n",
       "      <th>Desert</th>\n",
       "      <th>Place_Bangalore</th>\n",
       "      <th>Place_Delhi</th>\n",
       "      <th>Place_Gurgaon</th>\n",
       "      <th>Place_Hyderabad</th>\n",
       "      <th>Place_Kolkata</th>\n",
       "      <th>Place_Mumbai</th>\n",
       "      <th>Place_Noida</th>\n",
       "      <th>Place_Pune</th>\n",
       "      <th>Delivery_Time_mins</th>\n",
       "    </tr>\n",
       "  </thead>\n",
       "  <tbody>\n",
       "    <tr>\n",
       "      <th>0</th>\n",
       "      <td>350.0</td>\n",
       "      <td>50.0</td>\n",
       "      <td>4.20000</td>\n",
       "      <td>361.000000</td>\n",
       "      <td>225.000000</td>\n",
       "      <td>0.0</td>\n",
       "      <td>1.0</td>\n",
       "      <td>0.0</td>\n",
       "      <td>0.0</td>\n",
       "      <td>1.0</td>\n",
       "      <td>0.0</td>\n",
       "      <td>0.0</td>\n",
       "      <td>0.0</td>\n",
       "      <td>0.0</td>\n",
       "      <td>0.0</td>\n",
       "      <td>0.0</td>\n",
       "      <td>0.0</td>\n",
       "      <td>NaN</td>\n",
       "    </tr>\n",
       "    <tr>\n",
       "      <th>1</th>\n",
       "      <td>100.0</td>\n",
       "      <td>50.0</td>\n",
       "      <td>3.57619</td>\n",
       "      <td>202.714286</td>\n",
       "      <td>43.619048</td>\n",
       "      <td>0.0</td>\n",
       "      <td>1.0</td>\n",
       "      <td>0.0</td>\n",
       "      <td>0.0</td>\n",
       "      <td>1.0</td>\n",
       "      <td>0.0</td>\n",
       "      <td>0.0</td>\n",
       "      <td>0.0</td>\n",
       "      <td>0.0</td>\n",
       "      <td>0.0</td>\n",
       "      <td>0.0</td>\n",
       "      <td>0.0</td>\n",
       "      <td>NaN</td>\n",
       "    </tr>\n",
       "    <tr>\n",
       "      <th>2</th>\n",
       "      <td>100.0</td>\n",
       "      <td>50.0</td>\n",
       "      <td>3.60000</td>\n",
       "      <td>36.000000</td>\n",
       "      <td>16.000000</td>\n",
       "      <td>1.0</td>\n",
       "      <td>0.0</td>\n",
       "      <td>0.0</td>\n",
       "      <td>0.0</td>\n",
       "      <td>0.0</td>\n",
       "      <td>0.0</td>\n",
       "      <td>0.0</td>\n",
       "      <td>0.0</td>\n",
       "      <td>0.0</td>\n",
       "      <td>0.0</td>\n",
       "      <td>1.0</td>\n",
       "      <td>0.0</td>\n",
       "      <td>NaN</td>\n",
       "    </tr>\n",
       "    <tr>\n",
       "      <th>3</th>\n",
       "      <td>200.0</td>\n",
       "      <td>50.0</td>\n",
       "      <td>3.60000</td>\n",
       "      <td>66.000000</td>\n",
       "      <td>33.000000</td>\n",
       "      <td>1.0</td>\n",
       "      <td>1.0</td>\n",
       "      <td>0.0</td>\n",
       "      <td>1.0</td>\n",
       "      <td>0.0</td>\n",
       "      <td>1.0</td>\n",
       "      <td>0.0</td>\n",
       "      <td>0.0</td>\n",
       "      <td>0.0</td>\n",
       "      <td>0.0</td>\n",
       "      <td>0.0</td>\n",
       "      <td>0.0</td>\n",
       "      <td>NaN</td>\n",
       "    </tr>\n",
       "    <tr>\n",
       "      <th>4</th>\n",
       "      <td>150.0</td>\n",
       "      <td>50.0</td>\n",
       "      <td>2.90000</td>\n",
       "      <td>38.000000</td>\n",
       "      <td>14.000000</td>\n",
       "      <td>1.0</td>\n",
       "      <td>1.0</td>\n",
       "      <td>0.0</td>\n",
       "      <td>0.0</td>\n",
       "      <td>0.0</td>\n",
       "      <td>0.0</td>\n",
       "      <td>0.0</td>\n",
       "      <td>0.0</td>\n",
       "      <td>0.0</td>\n",
       "      <td>0.0</td>\n",
       "      <td>1.0</td>\n",
       "      <td>0.0</td>\n",
       "      <td>NaN</td>\n",
       "    </tr>\n",
       "  </tbody>\n",
       "</table>\n",
       "</div>"
      ],
      "text/plain": [
       "   Average_Cost  Minimum_Order   Rating       Votes     Reviews  Fast Food  \\\n",
       "0         350.0           50.0  4.20000  361.000000  225.000000        0.0   \n",
       "1         100.0           50.0  3.57619  202.714286   43.619048        0.0   \n",
       "2         100.0           50.0  3.60000   36.000000   16.000000        1.0   \n",
       "3         200.0           50.0  3.60000   66.000000   33.000000        1.0   \n",
       "4         150.0           50.0  2.90000   38.000000   14.000000        1.0   \n",
       "\n",
       "   Main Course  Beverage  Desert  Place_Bangalore  Place_Delhi  Place_Gurgaon  \\\n",
       "0          1.0       0.0     0.0              1.0          0.0            0.0   \n",
       "1          1.0       0.0     0.0              1.0          0.0            0.0   \n",
       "2          0.0       0.0     0.0              0.0          0.0            0.0   \n",
       "3          1.0       0.0     1.0              0.0          1.0            0.0   \n",
       "4          1.0       0.0     0.0              0.0          0.0            0.0   \n",
       "\n",
       "   Place_Hyderabad  Place_Kolkata  Place_Mumbai  Place_Noida  Place_Pune  \\\n",
       "0              0.0            0.0           0.0          0.0         0.0   \n",
       "1              0.0            0.0           0.0          0.0         0.0   \n",
       "2              0.0            0.0           0.0          1.0         0.0   \n",
       "3              0.0            0.0           0.0          0.0         0.0   \n",
       "4              0.0            0.0           0.0          1.0         0.0   \n",
       "\n",
       "   Delivery_Time_mins  \n",
       "0                 NaN  \n",
       "1                 NaN  \n",
       "2                 NaN  \n",
       "3                 NaN  \n",
       "4                 NaN  "
      ]
     },
     "execution_count": 6,
     "metadata": {},
     "output_type": "execute_result"
    }
   ],
   "source": [
    "df_final_test = pd.read_csv(\"final_test.csv\")\n",
    "df_final_test.head()"
   ]
  },
  {
   "cell_type": "code",
   "execution_count": null,
   "metadata": {},
   "outputs": [],
   "source": []
  },
  {
   "cell_type": "markdown",
   "metadata": {},
   "source": [
    "# Train Test Split "
   ]
  },
  {
   "cell_type": "code",
   "execution_count": 7,
   "metadata": {
    "ExecuteTime": {
     "end_time": "2020-08-01T18:37:22.081907Z",
     "start_time": "2020-08-01T18:37:21.056391Z"
    }
   },
   "outputs": [],
   "source": [
    "# We will work on the df_final_train (train) dataset and predict on the df_final_test (test) dataset"
   ]
  },
  {
   "cell_type": "code",
   "execution_count": 8,
   "metadata": {
    "ExecuteTime": {
     "end_time": "2020-08-01T18:37:22.704457Z",
     "start_time": "2020-08-01T18:37:22.089874Z"
    }
   },
   "outputs": [],
   "source": [
    "X_train = df_final_train.drop(\"Delivery_Time_mins\", axis = 1)\n",
    "y_train = df_final_train[\"Delivery_Time_mins\"]"
   ]
  },
  {
   "cell_type": "code",
   "execution_count": 9,
   "metadata": {
    "ExecuteTime": {
     "end_time": "2020-08-01T18:37:23.290107Z",
     "start_time": "2020-08-01T18:37:22.708445Z"
    }
   },
   "outputs": [],
   "source": [
    "X_test = df_final_test.drop(\"Delivery_Time_mins\", axis = 1)\n",
    "# y_test = df_final_train[\"Delivery_Time_mins\"]"
   ]
  },
  {
   "cell_type": "markdown",
   "metadata": {},
   "source": [
    "# Evaluate Target Class"
   ]
  },
  {
   "cell_type": "code",
   "execution_count": 10,
   "metadata": {
    "ExecuteTime": {
     "end_time": "2020-08-01T18:37:23.859830Z",
     "start_time": "2020-08-01T18:37:23.294101Z"
    }
   },
   "outputs": [
    {
     "data": {
      "text/plain": [
       "30.0     7406\n",
       "45.0     2665\n",
       "65.0      923\n",
       "120.0      62\n",
       "20.0       20\n",
       "80.0       14\n",
       "10.0        4\n",
       "Name: Delivery_Time_mins, dtype: int64"
      ]
     },
     "execution_count": 10,
     "metadata": {},
     "output_type": "execute_result"
    }
   ],
   "source": [
    "# The classes seem to be imbalanced, lets us further prove this\n",
    "y_train.value_counts()"
   ]
  },
  {
   "cell_type": "code",
   "execution_count": 11,
   "metadata": {
    "ExecuteTime": {
     "end_time": "2020-08-01T18:37:24.031287Z",
     "start_time": "2020-08-01T18:37:23.861796Z"
    }
   },
   "outputs": [
    {
     "data": {
      "text/plain": [
       "30.0     66.756805\n",
       "45.0     24.021994\n",
       "65.0      8.319813\n",
       "120.0     0.558861\n",
       "20.0      0.180278\n",
       "80.0      0.126194\n",
       "10.0      0.036056\n",
       "Name: Delivery_Time_mins, dtype: float64"
      ]
     },
     "execution_count": 11,
     "metadata": {},
     "output_type": "execute_result"
    }
   ],
   "source": [
    "y_train.value_counts(normalize=True)*100"
   ]
  },
  {
   "cell_type": "code",
   "execution_count": 12,
   "metadata": {
    "ExecuteTime": {
     "end_time": "2020-08-01T18:37:24.691641Z",
     "start_time": "2020-08-01T18:37:24.033252Z"
    }
   },
   "outputs": [
    {
     "data": {
      "image/png": "[encoded data removed]",
      "text/plain": [
       "<Figure size 648x432 with 1 Axes>"
      ]
     },
     "metadata": {
      "needs_background": "light"
     },
     "output_type": "display_data"
    }
   ],
   "source": [
    "plt.figure(figsize=(9, 6))\n",
    "sns.countplot(y_train)\n",
    "plt.xlabel('Delivery Time in mins')\n",
    "plt.ylabel(\"Frequancy\")\n",
    "plt.title(\"Distribution of Target Class labels\")\n",
    "plt.show()"
   ]
  },
  {
   "cell_type": "code",
   "execution_count": 13,
   "metadata": {
    "ExecuteTime": {
     "end_time": "2020-08-01T18:37:24.696643Z",
     "start_time": "2020-08-01T18:37:24.692648Z"
    }
   },
   "outputs": [],
   "source": [
    "# We clearly see that the Target labels are imbalanced (<20% of data), so we will have to balance it."
   ]
  },
  {
   "cell_type": "code",
   "execution_count": null,
   "metadata": {},
   "outputs": [],
   "source": []
  },
  {
   "cell_type": "markdown",
   "metadata": {},
   "source": [
    "# Handling Class Imbalance"
   ]
  },
  {
   "cell_type": "code",
   "execution_count": 14,
   "metadata": {
    "ExecuteTime": {
     "end_time": "2020-08-01T18:37:24.909887Z",
     "start_time": "2020-08-01T18:37:24.697660Z"
    }
   },
   "outputs": [],
   "source": [
    "# Let us use SMOT (Over-Sampling) technique to balance the data.\n",
    "# We will use it only on the train data succh that the predicted data is more generalized than overfit"
   ]
  },
  {
   "cell_type": "code",
   "execution_count": 15,
   "metadata": {
    "ExecuteTime": {
     "end_time": "2020-08-01T18:37:25.058639Z",
     "start_time": "2020-08-01T18:37:24.911881Z"
    }
   },
   "outputs": [],
   "source": [
    "# we get the error \"Expected n_neighbors <= n_samples,  but n_samples = 3, n_neighbors = 6\"\n",
    "# Let us use "
   ]
  },
  {
   "cell_type": "code",
   "execution_count": 16,
   "metadata": {
    "ExecuteTime": {
     "end_time": "2020-08-01T18:37:25.197269Z",
     "start_time": "2020-08-01T18:37:25.060635Z"
    }
   },
   "outputs": [
    {
     "data": {
      "text/plain": [
       "30.0     7406\n",
       "45.0     2665\n",
       "65.0      923\n",
       "120.0      62\n",
       "20.0       20\n",
       "80.0       14\n",
       "10.0        4\n",
       "Name: Delivery_Time_mins, dtype: int64"
      ]
     },
     "execution_count": 16,
     "metadata": {},
     "output_type": "execute_result"
    }
   ],
   "source": [
    "y_train.value_counts()"
   ]
  },
  {
   "cell_type": "code",
   "execution_count": 17,
   "metadata": {
    "ExecuteTime": {
     "end_time": "2020-08-01T18:37:25.773307Z",
     "start_time": "2020-08-01T18:37:25.199265Z"
    }
   },
   "outputs": [
    {
     "data": {
      "image/png": "[encoded data removed]",
      "text/plain": [
       "<Figure size 648x432 with 1 Axes>"
      ]
     },
     "metadata": {
      "needs_background": "light"
     },
     "output_type": "display_data"
    }
   ],
   "source": [
    "plt.figure(figsize=(9, 6))\n",
    "sns.countplot(y_train)\n",
    "plt.xlabel('Delivery Time in mins')\n",
    "plt.ylabel(\"Frequancy\")\n",
    "plt.title(\"Distribution of Target Class labels on Train data\")\n",
    "plt.show()"
   ]
  },
  {
   "cell_type": "markdown",
   "metadata": {},
   "source": [
    "## Synthetic Minority Oversampling Technique (SMOTE)"
   ]
  },
  {
   "cell_type": "code",
   "execution_count": 18,
   "metadata": {
    "ExecuteTime": {
     "end_time": "2020-08-01T18:37:28.525839Z",
     "start_time": "2020-08-01T18:37:25.775303Z"
    }
   },
   "outputs": [],
   "source": [
    "from imblearn.over_sampling import SMOTE\n",
    "\n",
    "smt = SMOTE(random_state=0, k_neighbors=3)\n",
    "X_train_SMOTE, y_train_SMOTE = smt.fit_sample(X_train, y_train)"
   ]
  },
  {
   "cell_type": "raw",
   "metadata": {},
   "source": [
    "Expected n_neighbors <= n_samples, but n_samples = 1, n_neighbors = 2\n",
    "\n",
    "Which basically means that the one single instance doesn't have any neighbours to use for the oversampling.\n",
    "\n",
    "The solution would be to use instead another technique - such as RandomOversampling ( no issues for that even with one instance per class).\n",
    "Or alternatively choose to remove the classes that have too few instances.\n",
    "Or, alternatively specify another value for k other than the default: k = 1 #number of neighbours sm = SMOTE(k_neighbors=k, random_state=seed)"
   ]
  },
  {
   "cell_type": "code",
   "execution_count": 19,
   "metadata": {
    "ExecuteTime": {
     "end_time": "2020-08-01T18:37:28.531822Z",
     "start_time": "2020-08-01T18:37:28.527832Z"
    }
   },
   "outputs": [],
   "source": [
    "# Our SMOT result gave an error \"ValueError: Expected n_neighbors <= n_samples,  but n_samples = 3, n_neighbors = 6\"\n",
    "# we have the option to remove the minority target labels or use another oversampling technique\n",
    "\n",
    "# we further used k_neighbors as (2) as n_neighbors=6 > n_samples din't work.\n",
    "\n",
    "# We can also use Random Over Sampling technique which will not give us the problem, as it does not use N Nearest neighbours for sampling."
   ]
  },
  {
   "cell_type": "code",
   "execution_count": 20,
   "metadata": {
    "ExecuteTime": {
     "end_time": "2020-08-01T18:37:28.731959Z",
     "start_time": "2020-08-01T18:37:28.533817Z"
    }
   },
   "outputs": [
    {
     "data": {
      "text/plain": [
       "120.0    7406\n",
       "80.0     7406\n",
       "20.0     7406\n",
       "10.0     7406\n",
       "45.0     7406\n",
       "65.0     7406\n",
       "30.0     7406\n",
       "Name: Delivery_Time_mins, dtype: int64"
      ]
     },
     "execution_count": 20,
     "metadata": {},
     "output_type": "execute_result"
    }
   ],
   "source": [
    "y_train_SMOTE.value_counts()"
   ]
  },
  {
   "cell_type": "code",
   "execution_count": 21,
   "metadata": {
    "ExecuteTime": {
     "end_time": "2020-08-01T18:37:30.008169Z",
     "start_time": "2020-08-01T18:37:28.734262Z"
    }
   },
   "outputs": [
    {
     "data": {
      "image/png": "[encoded data removed]",
      "text/plain": [
       "<Figure size 648x432 with 1 Axes>"
      ]
     },
     "metadata": {
      "needs_background": "light"
     },
     "output_type": "display_data"
    }
   ],
   "source": [
    "plt.figure(figsize=(9, 6))\n",
    "sns.countplot(y_train_SMOTE)\n",
    "plt.xlabel('Delivery Time in mins')\n",
    "plt.ylabel(\"Frequancy\")\n",
    "plt.title(\"Distribution of Target Class labels on Train data using SMOT\")\n",
    "plt.show()"
   ]
  },
  {
   "cell_type": "code",
   "execution_count": null,
   "metadata": {},
   "outputs": [],
   "source": []
  },
  {
   "cell_type": "markdown",
   "metadata": {},
   "source": [
    "# User-Defined Functions "
   ]
  },
  {
   "cell_type": "markdown",
   "metadata": {},
   "source": [
    "## Finding Optimal Parameters"
   ]
  },
  {
   "cell_type": "markdown",
   "metadata": {},
   "source": [
    "### Randomized Search CV"
   ]
  },
  {
   "cell_type": "code",
   "execution_count": 22,
   "metadata": {
    "ExecuteTime": {
     "end_time": "2020-08-01T18:37:30.020140Z",
     "start_time": "2020-08-01T18:37:30.010182Z"
    }
   },
   "outputs": [],
   "source": [
    "# function for applying random search cv\n",
    "def random_search_cv(X_train, y_train, model, params):\n",
    "    global RS_best_est, RS_best_params, cv_results_rs\n",
    "    sk = StratifiedKFold(n_splits=3, random_state=0, shuffle=True)\n",
    "    RS = RandomizedSearchCV(model, params, random_state = 0, n_iter = 100, scoring='f1_weighted', cv = sk, verbose=2, n_jobs=-1, return_train_score=True)\n",
    "    RS.fit(X_train, y_train)\n",
    "    print(\"\\n\\nBest Parameters:\\n\", RS.best_params_) \n",
    "    print(\"\\n\\nBest Estimator:\\n\", RS.best_estimator_)\n",
    "    print(\"\\n\\nBest Score:\\n\", RS.best_score_)\n",
    "    print(\"\\n\\nBest Index:\\n\", RS.best_index_)\n",
    "    print(\"\\n\\nScorer:\\n\", RS.scorer_)\n",
    "    # Best Estimator\n",
    "    RS_best_est = RS.best_estimator_\n",
    "    RS_best_params = RS.best_params_\n",
    "    # cv results\n",
    "    cv_results_rs = pd.DataFrame(RS.cv_results_)\n",
    "    return RS_best_est, RS_best_params "
   ]
  },
  {
   "cell_type": "markdown",
   "metadata": {},
   "source": [
    "### GridSearch CV"
   ]
  },
  {
   "cell_type": "code",
   "execution_count": 23,
   "metadata": {
    "ExecuteTime": {
     "end_time": "2020-08-01T18:37:30.239232Z",
     "start_time": "2020-08-01T18:37:30.022139Z"
    }
   },
   "outputs": [],
   "source": [
    "# function for applying grid search cv\n",
    "def grid_search_cv(X_train, y_train, model, params):\n",
    "    global GS_best_est, GS_best_params, cv_results_gs\n",
    "    sk = StratifiedKFold(n_splits=3, random_state=0, shuffle=True)\n",
    "    GS = GridSearchCV(estimator = model, param_grid = params, scoring='f1_weighted', cv = sk, verbose=2, n_jobs=-1, return_train_score=True)\n",
    "    GS.fit(X_train, y_train)\n",
    "    print(\"\\n\\nBest Parameters:\\n\", GS.best_params_) \n",
    "    print(\"\\n\\nBest Estimator:\\n\", GS.best_estimator_)\n",
    "    print(\"\\n\\nBest Score:\\n\", GS.best_score_)\n",
    "    print(\"\\n\\nBest Index:\\n\", GS.best_index_)\n",
    "    print(\"\\n\\nScorer:\\n\", GS.scorer_)\n",
    "    # Best Estimator\n",
    "    GS_best_est = GS.best_estimator_\n",
    "    GS_best_params = GS.best_params_\n",
    "    # cv results\n",
    "    cv_results_gs = pd.DataFrame(GS.cv_results_)\n",
    "    return GS_best_est, GS_best_params "
   ]
  },
  {
   "cell_type": "markdown",
   "metadata": {},
   "source": [
    "## Get Scores from models"
   ]
  },
  {
   "cell_type": "markdown",
   "metadata": {},
   "source": [
    "### Fit, Predict and Plotting Scores "
   ]
  },
  {
   "cell_type": "code",
   "execution_count": 24,
   "metadata": {
    "ExecuteTime": {
     "end_time": "2020-08-01T18:37:30.466467Z",
     "start_time": "2020-08-01T18:37:30.241228Z"
    }
   },
   "outputs": [],
   "source": [
    "# function to  for train and test  \n",
    "def fit_predict_plot(X_train, X_test, y_train, model):\n",
    "    global y_pred_test\n",
    "    model.fit(X_train, y_train)\n",
    "    y_pred_train = model.predict(X_train)\n",
    "    y_pred_test = model.predict(X_test)\n",
    "    \n",
    "    print('Train Data: Accuracy Score\\n')\n",
    "    print(accuracy_score(y_train,y_pred_train))\n",
    "    print('\\n\\nTrain Data: Classification Report\\n')\n",
    "    print(classification_report(y_train,y_pred_train))\n",
    "    print('\\n\\nTrain Data: Kappa Cohen Score\\n')\n",
    "    print(cohen_kappa_score(y_train,y_pred_train))\n",
    "    print('\\n\\nTrain Data: Confusion Matrix\\n')\n",
    "    print(confusion_matrix(y_train,y_pred_train))\n",
    "    cf_matrix = confusion_matrix(y_train,y_pred_train)\n",
    "    print('\\n\\nTrain Data: Normalized Confusion Matrix\\n')\n",
    "    fig, ax = plt.subplots(figsize=(9, 8))\n",
    "    plot_confusion_matrix(model,X_train,y_train, ax=ax, normalize=\"all\")\n",
    "    plt.show()\n",
    "    #print(jaccard_score(y_train,y_pred_train))\n"
   ]
  },
  {
   "cell_type": "markdown",
   "metadata": {},
   "source": [
    "### Predict CV Scores"
   ]
  },
  {
   "cell_type": "code",
   "execution_count": 25,
   "metadata": {
    "ExecuteTime": {
     "end_time": "2020-08-01T18:37:30.720041Z",
     "start_time": "2020-08-01T18:37:30.468410Z"
    }
   },
   "outputs": [],
   "source": [
    "# function to  for train and test  \n",
    "def predict_cv(X_train, X_test, y_train, model):\n",
    "    sk = StratifiedKFold(n_splits=5, random_state=0, shuffle=True)\n",
    "    y_pred_train = cross_val_predict(model, X_train, y_train, cv=sk)\n",
    "    \n",
    "    print('Train Data: Accuracy Score\\n')\n",
    "    print(accuracy_score(y_train,y_pred_train))\n",
    "    print('\\n\\nTrain Data: Classification Report\\n')\n",
    "    print(classification_report(y_train,y_pred_train))\n",
    "    print('\\n\\nTrain Data: Kappa Cohen Score\\n')\n",
    "    print(cohen_kappa_score(y_train,y_pred_train))\n",
    "    print('\\n\\nTrain Data: Confusion Matrix\\n')\n",
    "    print(confusion_matrix(y_train,y_pred_train))\n",
    "    cf_matrix = confusion_matrix(y_train,y_pred_train)\n",
    "    print('\\n\\nTrain Data: Normalized Confusion Matrix\\n')\n",
    "    fig, ax = plt.subplots(figsize=(9, 8))\n",
    "    plot_confusion_matrix(model,X_train,y_train, ax=ax, normalize=\"all\")\n",
    "    plt.show()\n",
    "    #print(jaccard_score(y_train,y_pred_train))\n",
    "    \n",
    "    return y_pred_train\n"
   ]
  },
  {
   "cell_type": "code",
   "execution_count": null,
   "metadata": {},
   "outputs": [],
   "source": []
  },
  {
   "cell_type": "markdown",
   "metadata": {},
   "source": [
    "# Modelling"
   ]
  },
  {
   "cell_type": "markdown",
   "metadata": {},
   "source": [
    "## Decision Tree"
   ]
  },
  {
   "cell_type": "markdown",
   "metadata": {},
   "source": [
    "### Evaluating the best Sampling Technique"
   ]
  },
  {
   "cell_type": "markdown",
   "metadata": {},
   "source": [
    "#### Modelling Without Sampling"
   ]
  },
  {
   "cell_type": "code",
   "execution_count": 26,
   "metadata": {
    "ExecuteTime": {
     "end_time": "2020-08-01T18:37:31.486987Z",
     "start_time": "2020-08-01T18:37:30.722812Z"
    }
   },
   "outputs": [
    {
     "name": "stdout",
     "output_type": "stream",
     "text": [
      "Train Data: Accuracy Score\n",
      "\n",
      "0.9882819542094826\n",
      "\n",
      "\n",
      "Train Data: Classification Report\n",
      "\n",
      "              precision    recall  f1-score   support\n",
      "\n",
      "        10.0       1.00      0.50      0.67         4\n",
      "        20.0       1.00      0.90      0.95        20\n",
      "        30.0       0.98      1.00      0.99      7406\n",
      "        45.0       1.00      0.97      0.98      2665\n",
      "        65.0       1.00      0.98      0.99       923\n",
      "        80.0       1.00      0.93      0.96        14\n",
      "       120.0       1.00      0.95      0.98        62\n",
      "\n",
      "    accuracy                           0.99     11094\n",
      "   macro avg       1.00      0.89      0.93     11094\n",
      "weighted avg       0.99      0.99      0.99     11094\n",
      "\n",
      "\n",
      "\n",
      "Train Data: Kappa Cohen Score\n",
      "\n",
      "0.9758461254394702\n",
      "\n",
      "\n",
      "Train Data: Confusion Matrix\n",
      "\n",
      "[[   2    0    2    0    0    0    0]\n",
      " [   0   18    2    0    0    0    0]\n",
      " [   0    0 7396    8    2    0    0]\n",
      " [   0    0   88 2575    2    0    0]\n",
      " [   0    0   21    1  901    0    0]\n",
      " [   0    0    1    0    0   13    0]\n",
      " [   0    0    3    0    0    0   59]]\n",
      "\n",
      "\n",
      "Train Data: Normalized Confusion Matrix\n",
      "\n"
     ]
    },
    {
     "data": {
      "image/png": "[encoded data removed]",
      "text/plain": [
       "<Figure size 648x576 with 2 Axes>"
      ]
     },
     "metadata": {
      "needs_background": "light"
     },
     "output_type": "display_data"
    }
   ],
   "source": [
    "dt = DecisionTreeClassifier()\n",
    "fit_predict_plot(X_train,X_test,y_train, dt)"
   ]
  },
  {
   "cell_type": "code",
   "execution_count": null,
   "metadata": {},
   "outputs": [],
   "source": []
  },
  {
   "cell_type": "markdown",
   "metadata": {},
   "source": [
    "#### Modelling with SMOTE"
   ]
  },
  {
   "cell_type": "code",
   "execution_count": 27,
   "metadata": {
    "ExecuteTime": {
     "end_time": "2020-08-01T18:37:32.510252Z",
     "start_time": "2020-08-01T18:37:31.490979Z"
    }
   },
   "outputs": [
    {
     "name": "stdout",
     "output_type": "stream",
     "text": [
      "Train Data: Accuracy Score\n",
      "\n",
      "0.9962964391805872\n",
      "\n",
      "\n",
      "Train Data: Classification Report\n",
      "\n",
      "              precision    recall  f1-score   support\n",
      "\n",
      "        10.0       1.00      1.00      1.00      7406\n",
      "        20.0       1.00      1.00      1.00      7406\n",
      "        30.0       0.98      1.00      0.99      7406\n",
      "        45.0       1.00      0.98      0.99      7406\n",
      "        65.0       1.00      1.00      1.00      7406\n",
      "        80.0       1.00      1.00      1.00      7406\n",
      "       120.0       1.00      1.00      1.00      7406\n",
      "\n",
      "    accuracy                           1.00     51842\n",
      "   macro avg       1.00      1.00      1.00     51842\n",
      "weighted avg       1.00      1.00      1.00     51842\n",
      "\n",
      "\n",
      "\n",
      "Train Data: Kappa Cohen Score\n",
      "\n",
      "0.9956791790440184\n",
      "\n",
      "\n",
      "Train Data: Confusion Matrix\n",
      "\n",
      "[[7404    0    2    0    0    0    0]\n",
      " [   0 7404    2    0    0    0    0]\n",
      " [   0    0 7385   14    7    0    0]\n",
      " [   0    0  128 7276    2    0    0]\n",
      " [   0    0   32    1 7373    0    0]\n",
      " [   0    0    1    0    0 7405    0]\n",
      " [   0    0    3    0    0    0 7403]]\n",
      "\n",
      "\n",
      "Train Data: Normalized Confusion Matrix\n",
      "\n"
     ]
    },
    {
     "data": {
      "image/png": "[encoded data removed]",
      "text/plain": [
       "<Figure size 648x576 with 2 Axes>"
      ]
     },
     "metadata": {
      "needs_background": "light"
     },
     "output_type": "display_data"
    }
   ],
   "source": [
    "dt_SMOTE = DecisionTreeClassifier()\n",
    "fit_predict_plot(X_train_SMOTE, X_test, y_train_SMOTE, dt_SMOTE)"
   ]
  },
  {
   "cell_type": "code",
   "execution_count": null,
   "metadata": {
    "ExecuteTime": {
     "end_time": "2020-08-01T03:37:27.287676Z",
     "start_time": "2020-08-01T03:37:27.282690Z"
    }
   },
   "outputs": [],
   "source": []
  },
  {
   "cell_type": "markdown",
   "metadata": {},
   "source": [
    "### Hyper Parameter Tuning"
   ]
  },
  {
   "cell_type": "code",
   "execution_count": 28,
   "metadata": {
    "ExecuteTime": {
     "end_time": "2020-08-01T18:37:32.518231Z",
     "start_time": "2020-08-01T18:37:32.512248Z"
    }
   },
   "outputs": [
    {
     "name": "stdout",
     "output_type": "stream",
     "text": [
      "Parameters currently in use:\n",
      "\n",
      "{'ccp_alpha': 0.0,\n",
      " 'class_weight': None,\n",
      " 'criterion': 'gini',\n",
      " 'max_depth': None,\n",
      " 'max_features': None,\n",
      " 'max_leaf_nodes': None,\n",
      " 'min_impurity_decrease': 0.0,\n",
      " 'min_impurity_split': None,\n",
      " 'min_samples_leaf': 1,\n",
      " 'min_samples_split': 2,\n",
      " 'min_weight_fraction_leaf': 0.0,\n",
      " 'presort': 'deprecated',\n",
      " 'random_state': None,\n",
      " 'splitter': 'best'}\n"
     ]
    }
   ],
   "source": [
    "from pprint import pprint\n",
    "\n",
    "# Look at parameters used by our current forest\n",
    "print('Parameters currently in use:\\n')\n",
    "pprint(dt.get_params())"
   ]
  },
  {
   "cell_type": "code",
   "execution_count": 29,
   "metadata": {
    "ExecuteTime": {
     "end_time": "2020-08-01T18:37:32.951870Z",
     "start_time": "2020-08-01T18:37:32.519229Z"
    }
   },
   "outputs": [
    {
     "name": "stdout",
     "output_type": "stream",
     "text": [
      "{'criterion': ['entropy', 'gini'],\n",
      " 'max_depth': range(1, 50),\n",
      " 'max_features': ['auto', 'sqrt', 'log2', 'int', 'float', None],\n",
      " 'min_samples_leaf': range(1, 50),\n",
      " 'min_samples_split': range(7, 30)}\n"
     ]
    }
   ],
   "source": [
    "from sklearn.model_selection import RandomizedSearchCV\n",
    "\n",
    "# Number of trees in random forest\n",
    "# n_estimators = [int(x) for x in np.linspace(start = 200, stop = 2000, num = 10)]\n",
    "\n",
    "criterion = ['entropy','gini']\n",
    "# Number of features to consider at every split\n",
    "max_features = ['auto', 'sqrt','log2','int','float',None]\n",
    "\n",
    "# Maximum number of levels in tree\n",
    "#max_depth = [int(x) for x in np.linspace(10, 110, num = 11)]\n",
    "#max_depth.append(None)\n",
    "max_depth = range(1,50)\n",
    "\n",
    "# Minimum number of samples required to split a node\n",
    "# min_samples_split = [5, 10, 15, 20]\n",
    "#min_samples_split = [4, 8, 12, 16, 20, 24, 28]\n",
    "min_samples_split = range(7,30)\n",
    "\n",
    "\n",
    "# Minimum number of samples required at each leaf node\n",
    "min_samples_leaf = range(1,50)\n",
    "\n",
    "\n",
    "\n",
    "# Create the random grid\n",
    "random_grid = {'criterion':criterion,\n",
    "               'max_features': max_features,\n",
    "               'max_depth': max_depth,\n",
    "               'min_samples_split': min_samples_split,\n",
    "               'min_samples_leaf': min_samples_leaf\n",
    "              }\n",
    "\n",
    "pprint(random_grid)"
   ]
  },
  {
   "cell_type": "markdown",
   "metadata": {},
   "source": [
    "#### Randomized Search CV"
   ]
  },
  {
   "cell_type": "code",
   "execution_count": 30,
   "metadata": {
    "ExecuteTime": {
     "end_time": "2020-08-01T18:37:50.824279Z",
     "start_time": "2020-08-01T18:37:32.954859Z"
    }
   },
   "outputs": [
    {
     "name": "stdout",
     "output_type": "stream",
     "text": [
      "Fitting 3 folds for each of 100 candidates, totalling 300 fits\n"
     ]
    },
    {
     "name": "stderr",
     "output_type": "stream",
     "text": [
      "[Parallel(n_jobs=-1)]: Using backend LokyBackend with 8 concurrent workers.\n",
      "[Parallel(n_jobs=-1)]: Done  25 tasks      | elapsed:    2.8s\n",
      "[Parallel(n_jobs=-1)]: Done 146 tasks      | elapsed:    6.6s\n",
      "[Parallel(n_jobs=-1)]: Done 300 out of 300 | elapsed:   15.8s finished\n"
     ]
    },
    {
     "name": "stdout",
     "output_type": "stream",
     "text": [
      "\n",
      "\n",
      "Best Parameters:\n",
      " {'min_samples_split': 19, 'min_samples_leaf': 12, 'max_features': None, 'max_depth': 48, 'criterion': 'entropy'}\n",
      "\n",
      "\n",
      "Best Estimator:\n",
      " DecisionTreeClassifier(ccp_alpha=0.0, class_weight=None, criterion='entropy',\n",
      "                       max_depth=48, max_features=None, max_leaf_nodes=None,\n",
      "                       min_impurity_decrease=0.0, min_impurity_split=None,\n",
      "                       min_samples_leaf=12, min_samples_split=19,\n",
      "                       min_weight_fraction_leaf=0.0, presort='deprecated',\n",
      "                       random_state=None, splitter='best')\n",
      "\n",
      "\n",
      "Best Score:\n",
      " 0.8718940211154692\n",
      "\n",
      "\n",
      "Best Index:\n",
      " 99\n",
      "\n",
      "\n",
      "Scorer:\n",
      " make_scorer(f1_score, pos_label=None, average=weighted)\n"
     ]
    },
    {
     "data": {
      "text/plain": [
       "(DecisionTreeClassifier(ccp_alpha=0.0, class_weight=None, criterion='entropy',\n",
       "                        max_depth=48, max_features=None, max_leaf_nodes=None,\n",
       "                        min_impurity_decrease=0.0, min_impurity_split=None,\n",
       "                        min_samples_leaf=12, min_samples_split=19,\n",
       "                        min_weight_fraction_leaf=0.0, presort='deprecated',\n",
       "                        random_state=None, splitter='best'),\n",
       " {'min_samples_split': 19,\n",
       "  'min_samples_leaf': 12,\n",
       "  'max_features': None,\n",
       "  'max_depth': 48,\n",
       "  'criterion': 'entropy'})"
      ]
     },
     "execution_count": 30,
     "metadata": {},
     "output_type": "execute_result"
    }
   ],
   "source": [
    "random_search_cv(X_train_SMOTE,y_train_SMOTE, dt, random_grid)"
   ]
  },
  {
   "cell_type": "code",
   "execution_count": 31,
   "metadata": {
    "ExecuteTime": {
     "end_time": "2020-08-01T18:37:50.875137Z",
     "start_time": "2020-08-01T18:37:50.828260Z"
    }
   },
   "outputs": [
    {
     "data": {
      "text/html": [
       "<div>\n",
       "<style scoped>\n",
       "    .dataframe tbody tr th:only-of-type {\n",
       "        vertical-align: middle;\n",
       "    }\n",
       "\n",
       "    .dataframe tbody tr th {\n",
       "        vertical-align: top;\n",
       "    }\n",
       "\n",
       "    .dataframe thead th {\n",
       "        text-align: right;\n",
       "    }\n",
       "</style>\n",
       "<table border=\"1\" class=\"dataframe\">\n",
       "  <thead>\n",
       "    <tr style=\"text-align: right;\">\n",
       "      <th></th>\n",
       "      <th>mean_fit_time</th>\n",
       "      <th>std_fit_time</th>\n",
       "      <th>mean_score_time</th>\n",
       "      <th>std_score_time</th>\n",
       "      <th>param_min_samples_split</th>\n",
       "      <th>param_min_samples_leaf</th>\n",
       "      <th>param_max_features</th>\n",
       "      <th>param_max_depth</th>\n",
       "      <th>param_criterion</th>\n",
       "      <th>params</th>\n",
       "      <th>split0_test_score</th>\n",
       "      <th>split1_test_score</th>\n",
       "      <th>split2_test_score</th>\n",
       "      <th>mean_test_score</th>\n",
       "      <th>std_test_score</th>\n",
       "      <th>rank_test_score</th>\n",
       "      <th>split0_train_score</th>\n",
       "      <th>split1_train_score</th>\n",
       "      <th>split2_train_score</th>\n",
       "      <th>mean_train_score</th>\n",
       "      <th>std_train_score</th>\n",
       "    </tr>\n",
       "  </thead>\n",
       "  <tbody>\n",
       "    <tr>\n",
       "      <th>0</th>\n",
       "      <td>0.197804</td>\n",
       "      <td>0.017735</td>\n",
       "      <td>0.015957</td>\n",
       "      <td>0.000814</td>\n",
       "      <td>25</td>\n",
       "      <td>13</td>\n",
       "      <td>sqrt</td>\n",
       "      <td>46</td>\n",
       "      <td>entropy</td>\n",
       "      <td>{'min_samples_split': 25, 'min_samples_leaf': ...</td>\n",
       "      <td>0.831956</td>\n",
       "      <td>0.836196</td>\n",
       "      <td>0.842526</td>\n",
       "      <td>0.836893</td>\n",
       "      <td>0.004343</td>\n",
       "      <td>16</td>\n",
       "      <td>0.858316</td>\n",
       "      <td>0.861902</td>\n",
       "      <td>0.872016</td>\n",
       "      <td>0.864078</td>\n",
       "      <td>0.005801</td>\n",
       "    </tr>\n",
       "    <tr>\n",
       "      <th>1</th>\n",
       "      <td>0.103056</td>\n",
       "      <td>0.004485</td>\n",
       "      <td>0.015958</td>\n",
       "      <td>0.001410</td>\n",
       "      <td>9</td>\n",
       "      <td>36</td>\n",
       "      <td>log2</td>\n",
       "      <td>16</td>\n",
       "      <td>gini</td>\n",
       "      <td>{'min_samples_split': 9, 'min_samples_leaf': 3...</td>\n",
       "      <td>0.788978</td>\n",
       "      <td>0.791314</td>\n",
       "      <td>0.795509</td>\n",
       "      <td>0.791934</td>\n",
       "      <td>0.002702</td>\n",
       "      <td>48</td>\n",
       "      <td>0.805015</td>\n",
       "      <td>0.803612</td>\n",
       "      <td>0.813713</td>\n",
       "      <td>0.807447</td>\n",
       "      <td>0.004468</td>\n",
       "    </tr>\n",
       "    <tr>\n",
       "      <th>2</th>\n",
       "      <td>0.199798</td>\n",
       "      <td>0.004908</td>\n",
       "      <td>0.013962</td>\n",
       "      <td>0.002155</td>\n",
       "      <td>15</td>\n",
       "      <td>33</td>\n",
       "      <td>log2</td>\n",
       "      <td>18</td>\n",
       "      <td>entropy</td>\n",
       "      <td>{'min_samples_split': 15, 'min_samples_leaf': ...</td>\n",
       "      <td>0.800085</td>\n",
       "      <td>0.788735</td>\n",
       "      <td>0.804551</td>\n",
       "      <td>0.797790</td>\n",
       "      <td>0.006658</td>\n",
       "      <td>41</td>\n",
       "      <td>0.817126</td>\n",
       "      <td>0.801411</td>\n",
       "      <td>0.824807</td>\n",
       "      <td>0.814448</td>\n",
       "      <td>0.009737</td>\n",
       "    </tr>\n",
       "    <tr>\n",
       "      <th>3</th>\n",
       "      <td>0.023604</td>\n",
       "      <td>0.001695</td>\n",
       "      <td>0.000000</td>\n",
       "      <td>0.000000</td>\n",
       "      <td>16</td>\n",
       "      <td>8</td>\n",
       "      <td>int</td>\n",
       "      <td>23</td>\n",
       "      <td>entropy</td>\n",
       "      <td>{'min_samples_split': 16, 'min_samples_leaf': ...</td>\n",
       "      <td>NaN</td>\n",
       "      <td>NaN</td>\n",
       "      <td>NaN</td>\n",
       "      <td>NaN</td>\n",
       "      <td>NaN</td>\n",
       "      <td>74</td>\n",
       "      <td>NaN</td>\n",
       "      <td>NaN</td>\n",
       "      <td>NaN</td>\n",
       "      <td>NaN</td>\n",
       "      <td>NaN</td>\n",
       "    </tr>\n",
       "    <tr>\n",
       "      <th>4</th>\n",
       "      <td>0.064495</td>\n",
       "      <td>0.007566</td>\n",
       "      <td>0.015292</td>\n",
       "      <td>0.000470</td>\n",
       "      <td>24</td>\n",
       "      <td>12</td>\n",
       "      <td>sqrt</td>\n",
       "      <td>5</td>\n",
       "      <td>gini</td>\n",
       "      <td>{'min_samples_split': 24, 'min_samples_leaf': ...</td>\n",
       "      <td>0.575822</td>\n",
       "      <td>0.571685</td>\n",
       "      <td>0.582183</td>\n",
       "      <td>0.576564</td>\n",
       "      <td>0.004318</td>\n",
       "      <td>62</td>\n",
       "      <td>0.575613</td>\n",
       "      <td>0.575682</td>\n",
       "      <td>0.579617</td>\n",
       "      <td>0.576971</td>\n",
       "      <td>0.001872</td>\n",
       "    </tr>\n",
       "  </tbody>\n",
       "</table>\n",
       "</div>"
      ],
      "text/plain": [
       "   mean_fit_time  std_fit_time  mean_score_time  std_score_time  \\\n",
       "0       0.197804      0.017735         0.015957        0.000814   \n",
       "1       0.103056      0.004485         0.015958        0.001410   \n",
       "2       0.199798      0.004908         0.013962        0.002155   \n",
       "3       0.023604      0.001695         0.000000        0.000000   \n",
       "4       0.064495      0.007566         0.015292        0.000470   \n",
       "\n",
       "  param_min_samples_split param_min_samples_leaf param_max_features  \\\n",
       "0                      25                     13               sqrt   \n",
       "1                       9                     36               log2   \n",
       "2                      15                     33               log2   \n",
       "3                      16                      8                int   \n",
       "4                      24                     12               sqrt   \n",
       "\n",
       "  param_max_depth param_criterion  \\\n",
       "0              46         entropy   \n",
       "1              16            gini   \n",
       "2              18         entropy   \n",
       "3              23         entropy   \n",
       "4               5            gini   \n",
       "\n",
       "                                              params  split0_test_score  \\\n",
       "0  {'min_samples_split': 25, 'min_samples_leaf': ...           0.831956   \n",
       "1  {'min_samples_split': 9, 'min_samples_leaf': 3...           0.788978   \n",
       "2  {'min_samples_split': 15, 'min_samples_leaf': ...           0.800085   \n",
       "3  {'min_samples_split': 16, 'min_samples_leaf': ...                NaN   \n",
       "4  {'min_samples_split': 24, 'min_samples_leaf': ...           0.575822   \n",
       "\n",
       "   split1_test_score  split2_test_score  mean_test_score  std_test_score  \\\n",
       "0           0.836196           0.842526         0.836893        0.004343   \n",
       "1           0.791314           0.795509         0.791934        0.002702   \n",
       "2           0.788735           0.804551         0.797790        0.006658   \n",
       "3                NaN                NaN              NaN             NaN   \n",
       "4           0.571685           0.582183         0.576564        0.004318   \n",
       "\n",
       "   rank_test_score  split0_train_score  split1_train_score  \\\n",
       "0               16            0.858316            0.861902   \n",
       "1               48            0.805015            0.803612   \n",
       "2               41            0.817126            0.801411   \n",
       "3               74                 NaN                 NaN   \n",
       "4               62            0.575613            0.575682   \n",
       "\n",
       "   split2_train_score  mean_train_score  std_train_score  \n",
       "0            0.872016          0.864078         0.005801  \n",
       "1            0.813713          0.807447         0.004468  \n",
       "2            0.824807          0.814448         0.009737  \n",
       "3                 NaN               NaN              NaN  \n",
       "4            0.579617          0.576971         0.001872  "
      ]
     },
     "execution_count": 31,
     "metadata": {},
     "output_type": "execute_result"
    }
   ],
   "source": [
    "cv_restuls_rs_dt = cv_results_rs\n",
    "cv_restuls_rs_dt.head()"
   ]
  },
  {
   "cell_type": "code",
   "execution_count": 32,
   "metadata": {
    "ExecuteTime": {
     "end_time": "2020-08-01T18:37:52.248076Z",
     "start_time": "2020-08-01T18:37:50.878127Z"
    }
   },
   "outputs": [
    {
     "data": {
      "text/plain": [
       "DecisionTreeClassifier(ccp_alpha=0.0, class_weight=None, criterion='entropy',\n",
       "                       max_depth=48, max_features=None, max_leaf_nodes=None,\n",
       "                       min_impurity_decrease=0.0, min_impurity_split=None,\n",
       "                       min_samples_leaf=12, min_samples_split=19,\n",
       "                       min_weight_fraction_leaf=0.0, presort='deprecated',\n",
       "                       random_state=None, splitter='best')"
      ]
     },
     "execution_count": 32,
     "metadata": {},
     "output_type": "execute_result"
    }
   ],
   "source": [
    "RS_best_est_dt = RS_best_est\n",
    "RS_best_est_dt"
   ]
  },
  {
   "cell_type": "code",
   "execution_count": 33,
   "metadata": {
    "ExecuteTime": {
     "end_time": "2020-08-01T18:37:52.405189Z",
     "start_time": "2020-08-01T18:37:52.251061Z"
    }
   },
   "outputs": [
    {
     "data": {
      "text/plain": [
       "{'min_samples_split': 19,\n",
       " 'min_samples_leaf': 12,\n",
       " 'max_features': None,\n",
       " 'max_depth': 48,\n",
       " 'criterion': 'entropy'}"
      ]
     },
     "execution_count": 33,
     "metadata": {},
     "output_type": "execute_result"
    }
   ],
   "source": [
    "RS_best_params"
   ]
  },
  {
   "cell_type": "code",
   "execution_count": 34,
   "metadata": {
    "ExecuteTime": {
     "end_time": "2020-08-01T18:37:55.115541Z",
     "start_time": "2020-08-01T18:37:52.408178Z"
    }
   },
   "outputs": [
    {
     "name": "stdout",
     "output_type": "stream",
     "text": [
      "Train Data: Accuracy Score\n",
      "\n",
      "0.9218780139655106\n",
      "\n",
      "\n",
      "Train Data: Classification Report\n",
      "\n",
      "              precision    recall  f1-score   support\n",
      "\n",
      "        10.0       1.00      1.00      1.00      7406\n",
      "        20.0       0.99      1.00      0.99      7406\n",
      "        30.0       0.82      0.86      0.84      7406\n",
      "        45.0       0.80      0.75      0.77      7406\n",
      "        65.0       0.85      0.86      0.85      7406\n",
      "        80.0       1.00      1.00      1.00      7406\n",
      "       120.0       0.99      0.99      0.99      7406\n",
      "\n",
      "    accuracy                           0.92     51842\n",
      "   macro avg       0.92      0.92      0.92     51842\n",
      "weighted avg       0.92      0.92      0.92     51842\n",
      "\n",
      "\n",
      "\n",
      "Train Data: Kappa Cohen Score\n",
      "\n",
      "0.9088576829597623\n",
      "\n",
      "\n",
      "Train Data: Confusion Matrix\n",
      "\n",
      "[[7402    0    4    0    0    0    0]\n",
      " [   0 7370   19    5   12    0    0]\n",
      " [   0   22 6340  728  295    3   18]\n",
      " [   5   26  987 5584  765   11   28]\n",
      " [   5   12  353  671 6346    0   19]\n",
      " [   0    0    1   10    9 7386    0]\n",
      " [   0    0   12   13   17    0 7364]]\n",
      "\n",
      "\n",
      "Train Data: Normalized Confusion Matrix\n",
      "\n"
     ]
    },
    {
     "data": {
      "image/png": "[encoded data removed]",
      "text/plain": [
       "<Figure size 648x576 with 2 Axes>"
      ]
     },
     "metadata": {
      "needs_background": "light"
     },
     "output_type": "display_data"
    }
   ],
   "source": [
    "fit_predict_plot(X_train_SMOTE,X_test,y_train_SMOTE, RS_best_est_dt)"
   ]
  },
  {
   "cell_type": "code",
   "execution_count": null,
   "metadata": {},
   "outputs": [],
   "source": []
  },
  {
   "cell_type": "markdown",
   "metadata": {},
   "source": [
    "#### Grid Search CV"
   ]
  },
  {
   "cell_type": "code",
   "execution_count": 35,
   "metadata": {
    "ExecuteTime": {
     "end_time": "2020-08-01T18:37:55.130501Z",
     "start_time": "2020-08-01T18:37:55.118531Z"
    }
   },
   "outputs": [
    {
     "name": "stdout",
     "output_type": "stream",
     "text": [
      "{'criterion': ['entropy'],\n",
      " 'max_depth': range(20, 50, 5),\n",
      " 'max_features': [None],\n",
      " 'min_samples_leaf': range(1, 20),\n",
      " 'min_samples_split': range(7, 21)}\n"
     ]
    }
   ],
   "source": [
    "# Create the parameter grid based on the results of random search \n",
    "\n",
    "criterion = ['entropy',]\n",
    "max_features = [None]\n",
    "max_depth = range(20,50,5)\n",
    "min_samples_split = range(7,21,1)\n",
    "min_samples_leaf = range(1,20,1)\n",
    "\n",
    "                    \n",
    "\n",
    "param_grid = {'criterion':criterion,\n",
    "               'max_features': max_features,\n",
    "               'max_depth': max_depth,\n",
    "               'min_samples_split': min_samples_split,\n",
    "               'min_samples_leaf': min_samples_leaf}\n",
    "\n",
    "pprint(param_grid)"
   ]
  },
  {
   "cell_type": "code",
   "execution_count": 36,
   "metadata": {
    "ExecuteTime": {
     "end_time": "2020-08-01T18:51:44.117320Z",
     "start_time": "2020-08-01T18:37:55.133494Z"
    }
   },
   "outputs": [
    {
     "name": "stdout",
     "output_type": "stream",
     "text": [
      "Fitting 3 folds for each of 1596 candidates, totalling 4788 fits\n"
     ]
    },
    {
     "name": "stderr",
     "output_type": "stream",
     "text": [
      "[Parallel(n_jobs=-1)]: Using backend LokyBackend with 8 concurrent workers.\n",
      "[Parallel(n_jobs=-1)]: Done  25 tasks      | elapsed:    4.7s\n",
      "[Parallel(n_jobs=-1)]: Done 146 tasks      | elapsed:   30.6s\n",
      "[Parallel(n_jobs=-1)]: Done 349 tasks      | elapsed:  1.2min\n",
      "[Parallel(n_jobs=-1)]: Done 632 tasks      | elapsed:  2.2min\n",
      "[Parallel(n_jobs=-1)]: Done 997 tasks      | elapsed:  3.6min\n",
      "[Parallel(n_jobs=-1)]: Done 1442 tasks      | elapsed:  5.2min\n",
      "[Parallel(n_jobs=-1)]: Done 1969 tasks      | elapsed:  7.2min\n",
      "[Parallel(n_jobs=-1)]: Done 2576 tasks      | elapsed:  9.4min\n",
      "[Parallel(n_jobs=-1)]: Done 3265 tasks      | elapsed: 10.7min\n",
      "[Parallel(n_jobs=-1)]: Done 4034 tasks      | elapsed: 12.3min\n",
      "[Parallel(n_jobs=-1)]: Done 4788 out of 4788 | elapsed: 13.8min finished\n"
     ]
    },
    {
     "name": "stdout",
     "output_type": "stream",
     "text": [
      "\n",
      "\n",
      "Best Parameters:\n",
      " {'criterion': 'entropy', 'max_depth': 25, 'max_features': None, 'min_samples_leaf': 1, 'min_samples_split': 7}\n",
      "\n",
      "\n",
      "Best Estimator:\n",
      " DecisionTreeClassifier(ccp_alpha=0.0, class_weight=None, criterion='entropy',\n",
      "                       max_depth=25, max_features=None, max_leaf_nodes=None,\n",
      "                       min_impurity_decrease=0.0, min_impurity_split=None,\n",
      "                       min_samples_leaf=1, min_samples_split=7,\n",
      "                       min_weight_fraction_leaf=0.0, presort='deprecated',\n",
      "                       random_state=None, splitter='best')\n",
      "\n",
      "\n",
      "Best Score:\n",
      " 0.9110944437055514\n",
      "\n",
      "\n",
      "Best Index:\n",
      " 266\n",
      "\n",
      "\n",
      "Scorer:\n",
      " make_scorer(f1_score, pos_label=None, average=weighted)\n"
     ]
    },
    {
     "data": {
      "text/plain": [
       "(DecisionTreeClassifier(ccp_alpha=0.0, class_weight=None, criterion='entropy',\n",
       "                        max_depth=25, max_features=None, max_leaf_nodes=None,\n",
       "                        min_impurity_decrease=0.0, min_impurity_split=None,\n",
       "                        min_samples_leaf=1, min_samples_split=7,\n",
       "                        min_weight_fraction_leaf=0.0, presort='deprecated',\n",
       "                        random_state=None, splitter='best'),\n",
       " {'criterion': 'entropy',\n",
       "  'max_depth': 25,\n",
       "  'max_features': None,\n",
       "  'min_samples_leaf': 1,\n",
       "  'min_samples_split': 7})"
      ]
     },
     "execution_count": 36,
     "metadata": {},
     "output_type": "execute_result"
    }
   ],
   "source": [
    "grid_search_cv(X_train_SMOTE,y_train_SMOTE, dt, params=param_grid)"
   ]
  },
  {
   "cell_type": "code",
   "execution_count": 37,
   "metadata": {
    "ExecuteTime": {
     "end_time": "2020-08-01T18:51:44.153010Z",
     "start_time": "2020-08-01T18:51:44.120312Z"
    }
   },
   "outputs": [
    {
     "data": {
      "text/html": [
       "<div>\n",
       "<style scoped>\n",
       "    .dataframe tbody tr th:only-of-type {\n",
       "        vertical-align: middle;\n",
       "    }\n",
       "\n",
       "    .dataframe tbody tr th {\n",
       "        vertical-align: top;\n",
       "    }\n",
       "\n",
       "    .dataframe thead th {\n",
       "        text-align: right;\n",
       "    }\n",
       "</style>\n",
       "<table border=\"1\" class=\"dataframe\">\n",
       "  <thead>\n",
       "    <tr style=\"text-align: right;\">\n",
       "      <th></th>\n",
       "      <th>mean_fit_time</th>\n",
       "      <th>std_fit_time</th>\n",
       "      <th>mean_score_time</th>\n",
       "      <th>std_score_time</th>\n",
       "      <th>param_criterion</th>\n",
       "      <th>param_max_depth</th>\n",
       "      <th>param_max_features</th>\n",
       "      <th>param_min_samples_leaf</th>\n",
       "      <th>param_min_samples_split</th>\n",
       "      <th>params</th>\n",
       "      <th>split0_test_score</th>\n",
       "      <th>split1_test_score</th>\n",
       "      <th>split2_test_score</th>\n",
       "      <th>mean_test_score</th>\n",
       "      <th>std_test_score</th>\n",
       "      <th>rank_test_score</th>\n",
       "      <th>split0_train_score</th>\n",
       "      <th>split1_train_score</th>\n",
       "      <th>split2_train_score</th>\n",
       "      <th>mean_train_score</th>\n",
       "      <th>std_train_score</th>\n",
       "    </tr>\n",
       "  </thead>\n",
       "  <tbody>\n",
       "    <tr>\n",
       "      <th>0</th>\n",
       "      <td>0.753637</td>\n",
       "      <td>0.015739</td>\n",
       "      <td>0.014960</td>\n",
       "      <td>4.495664e-07</td>\n",
       "      <td>entropy</td>\n",
       "      <td>20</td>\n",
       "      <td>None</td>\n",
       "      <td>1</td>\n",
       "      <td>7</td>\n",
       "      <td>{'criterion': 'entropy', 'max_depth': 20, 'max...</td>\n",
       "      <td>0.907951</td>\n",
       "      <td>0.907106</td>\n",
       "      <td>0.907926</td>\n",
       "      <td>0.907661</td>\n",
       "      <td>0.000392</td>\n",
       "      <td>19</td>\n",
       "      <td>0.970545</td>\n",
       "      <td>0.969747</td>\n",
       "      <td>0.973206</td>\n",
       "      <td>0.971166</td>\n",
       "      <td>0.001479</td>\n",
       "    </tr>\n",
       "    <tr>\n",
       "      <th>1</th>\n",
       "      <td>0.748997</td>\n",
       "      <td>0.007238</td>\n",
       "      <td>0.015293</td>\n",
       "      <td>9.406063e-04</td>\n",
       "      <td>entropy</td>\n",
       "      <td>20</td>\n",
       "      <td>None</td>\n",
       "      <td>1</td>\n",
       "      <td>8</td>\n",
       "      <td>{'criterion': 'entropy', 'max_depth': 20, 'max...</td>\n",
       "      <td>0.904872</td>\n",
       "      <td>0.906632</td>\n",
       "      <td>0.906025</td>\n",
       "      <td>0.905843</td>\n",
       "      <td>0.000730</td>\n",
       "      <td>33</td>\n",
       "      <td>0.967338</td>\n",
       "      <td>0.966371</td>\n",
       "      <td>0.970045</td>\n",
       "      <td>0.967918</td>\n",
       "      <td>0.001555</td>\n",
       "    </tr>\n",
       "    <tr>\n",
       "      <th>2</th>\n",
       "      <td>0.764948</td>\n",
       "      <td>0.020017</td>\n",
       "      <td>0.015958</td>\n",
       "      <td>1.410852e-03</td>\n",
       "      <td>entropy</td>\n",
       "      <td>20</td>\n",
       "      <td>None</td>\n",
       "      <td>1</td>\n",
       "      <td>9</td>\n",
       "      <td>{'criterion': 'entropy', 'max_depth': 20, 'max...</td>\n",
       "      <td>0.904956</td>\n",
       "      <td>0.904469</td>\n",
       "      <td>0.905658</td>\n",
       "      <td>0.905028</td>\n",
       "      <td>0.000488</td>\n",
       "      <td>49</td>\n",
       "      <td>0.964623</td>\n",
       "      <td>0.963965</td>\n",
       "      <td>0.967229</td>\n",
       "      <td>0.965272</td>\n",
       "      <td>0.001409</td>\n",
       "    </tr>\n",
       "    <tr>\n",
       "      <th>3</th>\n",
       "      <td>0.753316</td>\n",
       "      <td>0.009006</td>\n",
       "      <td>0.014961</td>\n",
       "      <td>8.143934e-04</td>\n",
       "      <td>entropy</td>\n",
       "      <td>20</td>\n",
       "      <td>None</td>\n",
       "      <td>1</td>\n",
       "      <td>10</td>\n",
       "      <td>{'criterion': 'entropy', 'max_depth': 20, 'max...</td>\n",
       "      <td>0.903945</td>\n",
       "      <td>0.903209</td>\n",
       "      <td>0.905148</td>\n",
       "      <td>0.904101</td>\n",
       "      <td>0.000800</td>\n",
       "      <td>63</td>\n",
       "      <td>0.961228</td>\n",
       "      <td>0.960411</td>\n",
       "      <td>0.964494</td>\n",
       "      <td>0.962044</td>\n",
       "      <td>0.001764</td>\n",
       "    </tr>\n",
       "    <tr>\n",
       "      <th>4</th>\n",
       "      <td>0.741684</td>\n",
       "      <td>0.012360</td>\n",
       "      <td>0.017288</td>\n",
       "      <td>1.245133e-03</td>\n",
       "      <td>entropy</td>\n",
       "      <td>20</td>\n",
       "      <td>None</td>\n",
       "      <td>1</td>\n",
       "      <td>11</td>\n",
       "      <td>{'criterion': 'entropy', 'max_depth': 20, 'max...</td>\n",
       "      <td>0.902160</td>\n",
       "      <td>0.900930</td>\n",
       "      <td>0.903328</td>\n",
       "      <td>0.902139</td>\n",
       "      <td>0.000979</td>\n",
       "      <td>94</td>\n",
       "      <td>0.958822</td>\n",
       "      <td>0.957691</td>\n",
       "      <td>0.961404</td>\n",
       "      <td>0.959306</td>\n",
       "      <td>0.001554</td>\n",
       "    </tr>\n",
       "  </tbody>\n",
       "</table>\n",
       "</div>"
      ],
      "text/plain": [
       "   mean_fit_time  std_fit_time  mean_score_time  std_score_time  \\\n",
       "0       0.753637      0.015739         0.014960    4.495664e-07   \n",
       "1       0.748997      0.007238         0.015293    9.406063e-04   \n",
       "2       0.764948      0.020017         0.015958    1.410852e-03   \n",
       "3       0.753316      0.009006         0.014961    8.143934e-04   \n",
       "4       0.741684      0.012360         0.017288    1.245133e-03   \n",
       "\n",
       "  param_criterion param_max_depth param_max_features param_min_samples_leaf  \\\n",
       "0         entropy              20               None                      1   \n",
       "1         entropy              20               None                      1   \n",
       "2         entropy              20               None                      1   \n",
       "3         entropy              20               None                      1   \n",
       "4         entropy              20               None                      1   \n",
       "\n",
       "  param_min_samples_split                                             params  \\\n",
       "0                       7  {'criterion': 'entropy', 'max_depth': 20, 'max...   \n",
       "1                       8  {'criterion': 'entropy', 'max_depth': 20, 'max...   \n",
       "2                       9  {'criterion': 'entropy', 'max_depth': 20, 'max...   \n",
       "3                      10  {'criterion': 'entropy', 'max_depth': 20, 'max...   \n",
       "4                      11  {'criterion': 'entropy', 'max_depth': 20, 'max...   \n",
       "\n",
       "   split0_test_score  split1_test_score  split2_test_score  mean_test_score  \\\n",
       "0           0.907951           0.907106           0.907926         0.907661   \n",
       "1           0.904872           0.906632           0.906025         0.905843   \n",
       "2           0.904956           0.904469           0.905658         0.905028   \n",
       "3           0.903945           0.903209           0.905148         0.904101   \n",
       "4           0.902160           0.900930           0.903328         0.902139   \n",
       "\n",
       "   std_test_score  rank_test_score  split0_train_score  split1_train_score  \\\n",
       "0        0.000392               19            0.970545            0.969747   \n",
       "1        0.000730               33            0.967338            0.966371   \n",
       "2        0.000488               49            0.964623            0.963965   \n",
       "3        0.000800               63            0.961228            0.960411   \n",
       "4        0.000979               94            0.958822            0.957691   \n",
       "\n",
       "   split2_train_score  mean_train_score  std_train_score  \n",
       "0            0.973206          0.971166         0.001479  \n",
       "1            0.970045          0.967918         0.001555  \n",
       "2            0.967229          0.965272         0.001409  \n",
       "3            0.964494          0.962044         0.001764  \n",
       "4            0.961404          0.959306         0.001554  "
      ]
     },
     "execution_count": 37,
     "metadata": {},
     "output_type": "execute_result"
    }
   ],
   "source": [
    "cv_restuls_gs_dt = cv_results_gs\n",
    "cv_restuls_gs_dt.head()"
   ]
  },
  {
   "cell_type": "code",
   "execution_count": 38,
   "metadata": {
    "ExecuteTime": {
     "end_time": "2020-08-01T18:51:44.866430Z",
     "start_time": "2020-08-01T18:51:44.155003Z"
    }
   },
   "outputs": [
    {
     "data": {
      "text/plain": [
       "DecisionTreeClassifier(ccp_alpha=0.0, class_weight=None, criterion='entropy',\n",
       "                       max_depth=25, max_features=None, max_leaf_nodes=None,\n",
       "                       min_impurity_decrease=0.0, min_impurity_split=None,\n",
       "                       min_samples_leaf=1, min_samples_split=7,\n",
       "                       min_weight_fraction_leaf=0.0, presort='deprecated',\n",
       "                       random_state=None, splitter='best')"
      ]
     },
     "execution_count": 38,
     "metadata": {},
     "output_type": "execute_result"
    }
   ],
   "source": [
    "GS_best_est_dt = GS_best_est\n",
    "GS_best_est_dt"
   ]
  },
  {
   "cell_type": "code",
   "execution_count": 39,
   "metadata": {
    "ExecuteTime": {
     "end_time": "2020-08-01T18:51:45.017028Z",
     "start_time": "2020-08-01T18:51:44.868428Z"
    }
   },
   "outputs": [
    {
     "data": {
      "text/plain": [
       "{'criterion': 'entropy',\n",
       " 'max_depth': 25,\n",
       " 'max_features': None,\n",
       " 'min_samples_leaf': 1,\n",
       " 'min_samples_split': 7}"
      ]
     },
     "execution_count": 39,
     "metadata": {},
     "output_type": "execute_result"
    }
   ],
   "source": [
    "GS_best_params"
   ]
  },
  {
   "cell_type": "code",
   "execution_count": 40,
   "metadata": {
    "ExecuteTime": {
     "end_time": "2020-08-01T18:51:46.545739Z",
     "start_time": "2020-08-01T18:51:45.019022Z"
    }
   },
   "outputs": [
    {
     "name": "stdout",
     "output_type": "stream",
     "text": [
      "Train Data: Accuracy Score\n",
      "\n",
      "0.980440569422476\n",
      "\n",
      "\n",
      "Train Data: Classification Report\n",
      "\n",
      "              precision    recall  f1-score   support\n",
      "\n",
      "        10.0       1.00      1.00      1.00      7406\n",
      "        20.0       1.00      1.00      1.00      7406\n",
      "        30.0       0.93      0.97      0.95      7406\n",
      "        45.0       0.96      0.93      0.95      7406\n",
      "        65.0       0.98      0.96      0.97      7406\n",
      "        80.0       1.00      1.00      1.00      7406\n",
      "       120.0       1.00      1.00      1.00      7406\n",
      "\n",
      "    accuracy                           0.98     51842\n",
      "   macro avg       0.98      0.98      0.98     51842\n",
      "weighted avg       0.98      0.98      0.98     51842\n",
      "\n",
      "\n",
      "\n",
      "Train Data: Kappa Cohen Score\n",
      "\n",
      "0.977180664326222\n",
      "\n",
      "\n",
      "Train Data: Confusion Matrix\n",
      "\n",
      "[[7404    0    2    0    0    0    0]\n",
      " [   0 7401    5    0    0    0    0]\n",
      " [   0    1 7220  130   53    1    1]\n",
      " [   0    1  423 6904   78    0    0]\n",
      " [   0    0  136  163 7106    0    1]\n",
      " [   0    0    1    1    0 7404    0]\n",
      " [   0    0    9    6    2    0 7389]]\n",
      "\n",
      "\n",
      "Train Data: Normalized Confusion Matrix\n",
      "\n"
     ]
    },
    {
     "data": {
      "image/png": "[encoded data removed]",
      "text/plain": [
       "<Figure size 648x576 with 2 Axes>"
      ]
     },
     "metadata": {
      "needs_background": "light"
     },
     "output_type": "display_data"
    }
   ],
   "source": [
    "# Evaluating model performance ofrom Grid Search CV\n",
    "fit_predict_plot(X_train_SMOTE,X_test,y_train_SMOTE, GS_best_est_dt)"
   ]
  },
  {
   "cell_type": "code",
   "execution_count": null,
   "metadata": {},
   "outputs": [],
   "source": []
  },
  {
   "cell_type": "markdown",
   "metadata": {},
   "source": [
    "#### Running the model with best parameters from GS CV"
   ]
  },
  {
   "cell_type": "code",
   "execution_count": 41,
   "metadata": {
    "ExecuteTime": {
     "end_time": "2020-08-01T18:51:48.039097Z",
     "start_time": "2020-08-01T18:51:46.547764Z"
    }
   },
   "outputs": [
    {
     "data": {
      "image/png": "[encoded data removed]",
      "text/plain": [
       "<Figure size 720x432 with 1 Axes>"
      ]
     },
     "metadata": {
      "needs_background": "light"
     },
     "output_type": "display_data"
    }
   ],
   "source": [
    "sk = StratifiedKFold(n_splits=3, random_state=0, shuffle=True)\n",
    "cv_results = cross_val_score(GS_best_est_dt, X_train_SMOTE, y_train_SMOTE, cv=sk, scoring='f1_weighted')\n",
    "plt.figure(figsize=(10,6))\n",
    "sns.distplot(cv_results)\n",
    "plt.xlabel('Train scores')\n",
    "plt.ylabel('Frequency')\n",
    "plt.title('DECISION TREE \\n\\n Cross Validation Average Train score: {}'.format(np.mean(cv_results)))\n",
    "plt.show()"
   ]
  },
  {
   "cell_type": "markdown",
   "metadata": {},
   "source": [
    "#### Making Predictions using cross validation"
   ]
  },
  {
   "cell_type": "code",
   "execution_count": 42,
   "metadata": {
    "ExecuteTime": {
     "end_time": "2020-08-01T18:51:51.160073Z",
     "start_time": "2020-08-01T18:51:48.041210Z"
    }
   },
   "outputs": [
    {
     "name": "stdout",
     "output_type": "stream",
     "text": [
      "Train Data: Accuracy Score\n",
      "\n",
      "0.9174414567339223\n",
      "\n",
      "\n",
      "Train Data: Classification Report\n",
      "\n",
      "              precision    recall  f1-score   support\n",
      "\n",
      "        10.0       1.00      1.00      1.00      7406\n",
      "        20.0       1.00      1.00      1.00      7406\n",
      "        30.0       0.81      0.84      0.83      7406\n",
      "        45.0       0.78      0.73      0.75      7406\n",
      "        65.0       0.85      0.86      0.85      7406\n",
      "        80.0       1.00      1.00      1.00      7406\n",
      "       120.0       0.99      0.99      0.99      7406\n",
      "\n",
      "    accuracy                           0.92     51842\n",
      "   macro avg       0.92      0.92      0.92     51842\n",
      "weighted avg       0.92      0.92      0.92     51842\n",
      "\n",
      "\n",
      "\n",
      "Train Data: Kappa Cohen Score\n",
      "\n",
      "0.9036816995229093\n",
      "\n",
      "\n",
      "Train Data: Confusion Matrix\n",
      "\n",
      "[[7403    0    3    0    0    0    0]\n",
      " [   0 7379   13    9    5    0    0]\n",
      " [   0   17 6239  834  288    9   19]\n",
      " [   1   12 1084 5427  853    7   22]\n",
      " [   1    7  351  685 6350    5    7]\n",
      " [   0    0    5    3    0 7398    0]\n",
      " [   0    0   17   15    8    0 7366]]\n",
      "\n",
      "\n",
      "Train Data: Normalized Confusion Matrix\n",
      "\n"
     ]
    },
    {
     "data": {
      "image/png": "[encoded data removed]",
      "text/plain": [
       "<Figure size 648x576 with 2 Axes>"
      ]
     },
     "metadata": {
      "needs_background": "light"
     },
     "output_type": "display_data"
    }
   ],
   "source": [
    "y_dt_pred_train = predict_cv(X_train_SMOTE, X_test, y_train_SMOTE, GS_best_est_dt)"
   ]
  },
  {
   "cell_type": "code",
   "execution_count": null,
   "metadata": {},
   "outputs": [],
   "source": []
  },
  {
   "cell_type": "markdown",
   "metadata": {},
   "source": [
    "## Random Forest "
   ]
  },
  {
   "cell_type": "code",
   "execution_count": 44,
   "metadata": {
    "ExecuteTime": {
     "end_time": "2020-08-01T18:59:37.979582Z",
     "start_time": "2020-08-01T18:59:28.711267Z"
    }
   },
   "outputs": [
    {
     "name": "stdout",
     "output_type": "stream",
     "text": [
      "Train Data: Accuracy Score\n",
      "\n",
      "0.9962964391805872\n",
      "\n",
      "\n",
      "Train Data: Classification Report\n",
      "\n",
      "              precision    recall  f1-score   support\n",
      "\n",
      "        10.0       1.00      1.00      1.00      7406\n",
      "        20.0       1.00      1.00      1.00      7406\n",
      "        30.0       0.98      1.00      0.99      7406\n",
      "        45.0       1.00      0.98      0.99      7406\n",
      "        65.0       1.00      1.00      1.00      7406\n",
      "        80.0       1.00      1.00      1.00      7406\n",
      "       120.0       1.00      1.00      1.00      7406\n",
      "\n",
      "    accuracy                           1.00     51842\n",
      "   macro avg       1.00      1.00      1.00     51842\n",
      "weighted avg       1.00      1.00      1.00     51842\n",
      "\n",
      "\n",
      "\n",
      "Train Data: Kappa Cohen Score\n",
      "\n",
      "0.9956791790440184\n",
      "\n",
      "\n",
      "Train Data: Confusion Matrix\n",
      "\n",
      "[[7404    0    2    0    0    0    0]\n",
      " [   0 7404    2    0    0    0    0]\n",
      " [   0    0 7375   24    7    0    0]\n",
      " [   0    0  118 7286    2    0    0]\n",
      " [   0    0   32    1 7373    0    0]\n",
      " [   0    0    1    0    0 7405    0]\n",
      " [   0    0    3    0    0    0 7403]]\n",
      "\n",
      "\n",
      "Train Data: Normalized Confusion Matrix\n",
      "\n"
     ]
    },
    {
     "data": {
      "image/png": "[encoded data removed]",
      "text/plain": [
       "<Figure size 648x576 with 2 Axes>"
      ]
     },
     "metadata": {
      "needs_background": "light"
     },
     "output_type": "display_data"
    }
   ],
   "source": [
    "rf = RandomForestClassifier()\n",
    "fit_predict_plot(X_train_SMOTE,X_test,y_train_SMOTE, rf)"
   ]
  },
  {
   "cell_type": "code",
   "execution_count": 45,
   "metadata": {
    "ExecuteTime": {
     "end_time": "2020-08-01T18:59:37.984543Z",
     "start_time": "2020-08-01T18:59:37.980555Z"
    }
   },
   "outputs": [],
   "source": [
    "# We notice that our Random Forest base model seems to be performing better than the Decision Tree (Grid Search CV)"
   ]
  },
  {
   "cell_type": "markdown",
   "metadata": {},
   "source": [
    "### Hyper Parameter Tuning"
   ]
  },
  {
   "cell_type": "code",
   "execution_count": 46,
   "metadata": {
    "ExecuteTime": {
     "end_time": "2020-08-01T18:59:38.110839Z",
     "start_time": "2020-08-01T18:59:37.985541Z"
    }
   },
   "outputs": [
    {
     "name": "stdout",
     "output_type": "stream",
     "text": [
      "Parameters currently in use:\n",
      "\n",
      "{'bootstrap': True,\n",
      " 'ccp_alpha': 0.0,\n",
      " 'class_weight': None,\n",
      " 'criterion': 'gini',\n",
      " 'max_depth': None,\n",
      " 'max_features': 'auto',\n",
      " 'max_leaf_nodes': None,\n",
      " 'max_samples': None,\n",
      " 'min_impurity_decrease': 0.0,\n",
      " 'min_impurity_split': None,\n",
      " 'min_samples_leaf': 1,\n",
      " 'min_samples_split': 2,\n",
      " 'min_weight_fraction_leaf': 0.0,\n",
      " 'n_estimators': 100,\n",
      " 'n_jobs': None,\n",
      " 'oob_score': False,\n",
      " 'random_state': 0,\n",
      " 'verbose': 0,\n",
      " 'warm_start': False}\n"
     ]
    }
   ],
   "source": [
    "rf = RandomForestClassifier(random_state=0)\n",
    "\n",
    "from pprint import pprint\n",
    "\n",
    "# Look at parameters used by our current forest\n",
    "print('Parameters currently in use:\\n')\n",
    "pprint(rf.get_params())"
   ]
  },
  {
   "cell_type": "code",
   "execution_count": 47,
   "metadata": {
    "ExecuteTime": {
     "end_time": "2020-08-01T18:59:38.383046Z",
     "start_time": "2020-08-01T18:59:38.371080Z"
    }
   },
   "outputs": [
    {
     "name": "stdout",
     "output_type": "stream",
     "text": [
      "{'bootstrap': [True, False],\n",
      " 'criterion': ['entropy', 'gini'],\n",
      " 'max_depth': range(1, 50, 10),\n",
      " 'max_features': ['auto', 'sqrt', 'log2', 'int', 'float', None],\n",
      " 'min_samples_leaf': range(1, 50, 10),\n",
      " 'min_samples_split': range(7, 50, 7),\n",
      " 'n_estimators': range(1, 60)}\n"
     ]
    }
   ],
   "source": [
    "from sklearn.model_selection import RandomizedSearchCV\n",
    "\n",
    "# Number of trees in random forest\n",
    "# n_estimators = [int(x) for x in np.linspace(start = 200, stop = 2000, num = 10)]\n",
    "n_estimators = range(1,60)\n",
    "\n",
    "# splitting criterion\n",
    "criterion = ['entropy','gini']\n",
    "\n",
    "# Number of features to consider at every split\n",
    "max_features = ['auto', 'sqrt','log2','int','float',None]\n",
    "\n",
    "# Maximum number of levels in tree\n",
    "#max_depth = [int(x) for x in np.linspace(10, 110, num = 11)]\n",
    "#max_depth.append(None)\n",
    "max_depth = range(1,50, 10)\n",
    "\n",
    "# Minimum number of samples required to split a node\n",
    "min_samples_split = range(7,50, 7)\n",
    "\n",
    "# Minimum number of samples required at each leaf node\n",
    "min_samples_leaf = range(1,50, 10)\n",
    "\n",
    "# Method of selecting samples for training each tree\n",
    "bootstrap = [True, False]\n",
    "\n",
    "# Create the random grid\n",
    "random_grid = {'n_estimators': n_estimators,\n",
    "               'criterion':criterion,\n",
    "               'max_features': max_features,\n",
    "               'max_depth': max_depth,\n",
    "               'min_samples_split': min_samples_split,\n",
    "               'min_samples_leaf': min_samples_leaf,\n",
    "               'bootstrap': bootstrap\n",
    "              }\n",
    "\n",
    "pprint(random_grid)"
   ]
  },
  {
   "cell_type": "markdown",
   "metadata": {},
   "source": [
    "### Randomized Search CV"
   ]
  },
  {
   "cell_type": "code",
   "execution_count": 48,
   "metadata": {
    "ExecuteTime": {
     "end_time": "2020-08-01T19:05:43.328589Z",
     "start_time": "2020-08-01T18:59:39.145711Z"
    }
   },
   "outputs": [
    {
     "name": "stdout",
     "output_type": "stream",
     "text": [
      "Fitting 3 folds for each of 100 candidates, totalling 300 fits\n"
     ]
    },
    {
     "name": "stderr",
     "output_type": "stream",
     "text": [
      "[Parallel(n_jobs=-1)]: Using backend LokyBackend with 8 concurrent workers.\n",
      "[Parallel(n_jobs=-1)]: Done  25 tasks      | elapsed:   38.0s\n",
      "[Parallel(n_jobs=-1)]: Done 146 tasks      | elapsed:  2.1min\n",
      "[Parallel(n_jobs=-1)]: Done 300 out of 300 | elapsed:  6.0min finished\n"
     ]
    },
    {
     "name": "stdout",
     "output_type": "stream",
     "text": [
      "\n",
      "\n",
      "Best Parameters:\n",
      " {'n_estimators': 17, 'min_samples_split': 7, 'min_samples_leaf': 1, 'max_features': 'sqrt', 'max_depth': 31, 'criterion': 'gini', 'bootstrap': True}\n",
      "\n",
      "\n",
      "Best Estimator:\n",
      " RandomForestClassifier(bootstrap=True, ccp_alpha=0.0, class_weight=None,\n",
      "                       criterion='gini', max_depth=31, max_features='sqrt',\n",
      "                       max_leaf_nodes=None, max_samples=None,\n",
      "                       min_impurity_decrease=0.0, min_impurity_split=None,\n",
      "                       min_samples_leaf=1, min_samples_split=7,\n",
      "                       min_weight_fraction_leaf=0.0, n_estimators=17,\n",
      "                       n_jobs=None, oob_score=False, random_state=0, verbose=0,\n",
      "                       warm_start=False)\n",
      "\n",
      "\n",
      "Best Score:\n",
      " 0.934804535720104\n",
      "\n",
      "\n",
      "Best Index:\n",
      " 24\n",
      "\n",
      "\n",
      "Scorer:\n",
      " make_scorer(f1_score, pos_label=None, average=weighted)\n"
     ]
    },
    {
     "data": {
      "text/plain": [
       "(RandomForestClassifier(bootstrap=True, ccp_alpha=0.0, class_weight=None,\n",
       "                        criterion='gini', max_depth=31, max_features='sqrt',\n",
       "                        max_leaf_nodes=None, max_samples=None,\n",
       "                        min_impurity_decrease=0.0, min_impurity_split=None,\n",
       "                        min_samples_leaf=1, min_samples_split=7,\n",
       "                        min_weight_fraction_leaf=0.0, n_estimators=17,\n",
       "                        n_jobs=None, oob_score=False, random_state=0, verbose=0,\n",
       "                        warm_start=False),\n",
       " {'n_estimators': 17,\n",
       "  'min_samples_split': 7,\n",
       "  'min_samples_leaf': 1,\n",
       "  'max_features': 'sqrt',\n",
       "  'max_depth': 31,\n",
       "  'criterion': 'gini',\n",
       "  'bootstrap': True})"
      ]
     },
     "execution_count": 48,
     "metadata": {},
     "output_type": "execute_result"
    }
   ],
   "source": [
    "random_search_cv(X_train_SMOTE,y_train_SMOTE, rf, random_grid)"
   ]
  },
  {
   "cell_type": "code",
   "execution_count": 49,
   "metadata": {
    "ExecuteTime": {
     "end_time": "2020-08-01T19:05:43.358488Z",
     "start_time": "2020-08-01T19:05:43.330563Z"
    }
   },
   "outputs": [
    {
     "data": {
      "text/html": [
       "<div>\n",
       "<style scoped>\n",
       "    .dataframe tbody tr th:only-of-type {\n",
       "        vertical-align: middle;\n",
       "    }\n",
       "\n",
       "    .dataframe tbody tr th {\n",
       "        vertical-align: top;\n",
       "    }\n",
       "\n",
       "    .dataframe thead th {\n",
       "        text-align: right;\n",
       "    }\n",
       "</style>\n",
       "<table border=\"1\" class=\"dataframe\">\n",
       "  <thead>\n",
       "    <tr style=\"text-align: right;\">\n",
       "      <th></th>\n",
       "      <th>mean_fit_time</th>\n",
       "      <th>std_fit_time</th>\n",
       "      <th>mean_score_time</th>\n",
       "      <th>std_score_time</th>\n",
       "      <th>param_n_estimators</th>\n",
       "      <th>param_min_samples_split</th>\n",
       "      <th>param_min_samples_leaf</th>\n",
       "      <th>param_max_features</th>\n",
       "      <th>param_max_depth</th>\n",
       "      <th>param_criterion</th>\n",
       "      <th>param_bootstrap</th>\n",
       "      <th>params</th>\n",
       "      <th>split0_test_score</th>\n",
       "      <th>split1_test_score</th>\n",
       "      <th>split2_test_score</th>\n",
       "      <th>mean_test_score</th>\n",
       "      <th>std_test_score</th>\n",
       "      <th>rank_test_score</th>\n",
       "      <th>split0_train_score</th>\n",
       "      <th>split1_train_score</th>\n",
       "      <th>split2_train_score</th>\n",
       "      <th>mean_train_score</th>\n",
       "      <th>std_train_score</th>\n",
       "    </tr>\n",
       "  </thead>\n",
       "  <tbody>\n",
       "    <tr>\n",
       "      <th>0</th>\n",
       "      <td>3.100378</td>\n",
       "      <td>0.015586</td>\n",
       "      <td>0.131981</td>\n",
       "      <td>0.002618</td>\n",
       "      <td>39</td>\n",
       "      <td>35</td>\n",
       "      <td>21</td>\n",
       "      <td>auto</td>\n",
       "      <td>11</td>\n",
       "      <td>gini</td>\n",
       "      <td>False</td>\n",
       "      <td>{'n_estimators': 39, 'min_samples_split': 35, ...</td>\n",
       "      <td>0.874350</td>\n",
       "      <td>0.876080</td>\n",
       "      <td>0.872218</td>\n",
       "      <td>0.874216</td>\n",
       "      <td>0.001579</td>\n",
       "      <td>30</td>\n",
       "      <td>0.895043</td>\n",
       "      <td>0.896576</td>\n",
       "      <td>0.897687</td>\n",
       "      <td>0.896435</td>\n",
       "      <td>0.001084</td>\n",
       "    </tr>\n",
       "    <tr>\n",
       "      <th>1</th>\n",
       "      <td>0.061170</td>\n",
       "      <td>0.007825</td>\n",
       "      <td>0.000000</td>\n",
       "      <td>0.000000</td>\n",
       "      <td>26</td>\n",
       "      <td>28</td>\n",
       "      <td>1</td>\n",
       "      <td>int</td>\n",
       "      <td>31</td>\n",
       "      <td>entropy</td>\n",
       "      <td>True</td>\n",
       "      <td>{'n_estimators': 26, 'min_samples_split': 28, ...</td>\n",
       "      <td>NaN</td>\n",
       "      <td>NaN</td>\n",
       "      <td>NaN</td>\n",
       "      <td>NaN</td>\n",
       "      <td>NaN</td>\n",
       "      <td>70</td>\n",
       "      <td>NaN</td>\n",
       "      <td>NaN</td>\n",
       "      <td>NaN</td>\n",
       "      <td>NaN</td>\n",
       "      <td>NaN</td>\n",
       "    </tr>\n",
       "    <tr>\n",
       "      <th>2</th>\n",
       "      <td>16.379375</td>\n",
       "      <td>0.815027</td>\n",
       "      <td>0.469968</td>\n",
       "      <td>0.072666</td>\n",
       "      <td>49</td>\n",
       "      <td>28</td>\n",
       "      <td>1</td>\n",
       "      <td>auto</td>\n",
       "      <td>41</td>\n",
       "      <td>entropy</td>\n",
       "      <td>False</td>\n",
       "      <td>{'n_estimators': 49, 'min_samples_split': 28, ...</td>\n",
       "      <td>0.931952</td>\n",
       "      <td>0.933923</td>\n",
       "      <td>0.926213</td>\n",
       "      <td>0.930696</td>\n",
       "      <td>0.003270</td>\n",
       "      <td>3</td>\n",
       "      <td>0.971256</td>\n",
       "      <td>0.969236</td>\n",
       "      <td>0.970717</td>\n",
       "      <td>0.970403</td>\n",
       "      <td>0.000854</td>\n",
       "    </tr>\n",
       "    <tr>\n",
       "      <th>3</th>\n",
       "      <td>0.046541</td>\n",
       "      <td>0.010813</td>\n",
       "      <td>0.000000</td>\n",
       "      <td>0.000000</td>\n",
       "      <td>12</td>\n",
       "      <td>35</td>\n",
       "      <td>1</td>\n",
       "      <td>int</td>\n",
       "      <td>41</td>\n",
       "      <td>gini</td>\n",
       "      <td>True</td>\n",
       "      <td>{'n_estimators': 12, 'min_samples_split': 35, ...</td>\n",
       "      <td>NaN</td>\n",
       "      <td>NaN</td>\n",
       "      <td>NaN</td>\n",
       "      <td>NaN</td>\n",
       "      <td>NaN</td>\n",
       "      <td>75</td>\n",
       "      <td>NaN</td>\n",
       "      <td>NaN</td>\n",
       "      <td>NaN</td>\n",
       "      <td>NaN</td>\n",
       "      <td>NaN</td>\n",
       "    </tr>\n",
       "    <tr>\n",
       "      <th>4</th>\n",
       "      <td>4.953757</td>\n",
       "      <td>1.222208</td>\n",
       "      <td>0.107380</td>\n",
       "      <td>0.036909</td>\n",
       "      <td>23</td>\n",
       "      <td>28</td>\n",
       "      <td>31</td>\n",
       "      <td>sqrt</td>\n",
       "      <td>41</td>\n",
       "      <td>entropy</td>\n",
       "      <td>False</td>\n",
       "      <td>{'n_estimators': 23, 'min_samples_split': 28, ...</td>\n",
       "      <td>0.876378</td>\n",
       "      <td>0.874937</td>\n",
       "      <td>0.871212</td>\n",
       "      <td>0.874176</td>\n",
       "      <td>0.002177</td>\n",
       "      <td>31</td>\n",
       "      <td>0.898509</td>\n",
       "      <td>0.898216</td>\n",
       "      <td>0.896283</td>\n",
       "      <td>0.897669</td>\n",
       "      <td>0.000987</td>\n",
       "    </tr>\n",
       "  </tbody>\n",
       "</table>\n",
       "</div>"
      ],
      "text/plain": [
       "   mean_fit_time  std_fit_time  mean_score_time  std_score_time  \\\n",
       "0       3.100378      0.015586         0.131981        0.002618   \n",
       "1       0.061170      0.007825         0.000000        0.000000   \n",
       "2      16.379375      0.815027         0.469968        0.072666   \n",
       "3       0.046541      0.010813         0.000000        0.000000   \n",
       "4       4.953757      1.222208         0.107380        0.036909   \n",
       "\n",
       "  param_n_estimators param_min_samples_split param_min_samples_leaf  \\\n",
       "0                 39                      35                     21   \n",
       "1                 26                      28                      1   \n",
       "2                 49                      28                      1   \n",
       "3                 12                      35                      1   \n",
       "4                 23                      28                     31   \n",
       "\n",
       "  param_max_features param_max_depth param_criterion param_bootstrap  \\\n",
       "0               auto              11            gini           False   \n",
       "1                int              31         entropy            True   \n",
       "2               auto              41         entropy           False   \n",
       "3                int              41            gini            True   \n",
       "4               sqrt              41         entropy           False   \n",
       "\n",
       "                                              params  split0_test_score  \\\n",
       "0  {'n_estimators': 39, 'min_samples_split': 35, ...           0.874350   \n",
       "1  {'n_estimators': 26, 'min_samples_split': 28, ...                NaN   \n",
       "2  {'n_estimators': 49, 'min_samples_split': 28, ...           0.931952   \n",
       "3  {'n_estimators': 12, 'min_samples_split': 35, ...                NaN   \n",
       "4  {'n_estimators': 23, 'min_samples_split': 28, ...           0.876378   \n",
       "\n",
       "   split1_test_score  split2_test_score  mean_test_score  std_test_score  \\\n",
       "0           0.876080           0.872218         0.874216        0.001579   \n",
       "1                NaN                NaN              NaN             NaN   \n",
       "2           0.933923           0.926213         0.930696        0.003270   \n",
       "3                NaN                NaN              NaN             NaN   \n",
       "4           0.874937           0.871212         0.874176        0.002177   \n",
       "\n",
       "   rank_test_score  split0_train_score  split1_train_score  \\\n",
       "0               30            0.895043            0.896576   \n",
       "1               70                 NaN                 NaN   \n",
       "2                3            0.971256            0.969236   \n",
       "3               75                 NaN                 NaN   \n",
       "4               31            0.898509            0.898216   \n",
       "\n",
       "   split2_train_score  mean_train_score  std_train_score  \n",
       "0            0.897687          0.896435         0.001084  \n",
       "1                 NaN               NaN              NaN  \n",
       "2            0.970717          0.970403         0.000854  \n",
       "3                 NaN               NaN              NaN  \n",
       "4            0.896283          0.897669         0.000987  "
      ]
     },
     "execution_count": 49,
     "metadata": {},
     "output_type": "execute_result"
    }
   ],
   "source": [
    "cv_restuls_rs_rf = cv_results_rs\n",
    "cv_restuls_rs_rf.head()"
   ]
  },
  {
   "cell_type": "code",
   "execution_count": 50,
   "metadata": {
    "ExecuteTime": {
     "end_time": "2020-08-01T19:05:43.484491Z",
     "start_time": "2020-08-01T19:05:43.360483Z"
    }
   },
   "outputs": [
    {
     "data": {
      "text/plain": [
       "RandomForestClassifier(bootstrap=True, ccp_alpha=0.0, class_weight=None,\n",
       "                       criterion='gini', max_depth=31, max_features='sqrt',\n",
       "                       max_leaf_nodes=None, max_samples=None,\n",
       "                       min_impurity_decrease=0.0, min_impurity_split=None,\n",
       "                       min_samples_leaf=1, min_samples_split=7,\n",
       "                       min_weight_fraction_leaf=0.0, n_estimators=17,\n",
       "                       n_jobs=None, oob_score=False, random_state=0, verbose=0,\n",
       "                       warm_start=False)"
      ]
     },
     "execution_count": 50,
     "metadata": {},
     "output_type": "execute_result"
    }
   ],
   "source": [
    "RS_best_est_rf = RS_best_est\n",
    "RS_best_est_rf"
   ]
  },
  {
   "cell_type": "code",
   "execution_count": 51,
   "metadata": {
    "ExecuteTime": {
     "end_time": "2020-08-01T19:05:43.616622Z",
     "start_time": "2020-08-01T19:05:43.486486Z"
    }
   },
   "outputs": [
    {
     "data": {
      "text/plain": [
       "{'n_estimators': 17,\n",
       " 'min_samples_split': 7,\n",
       " 'min_samples_leaf': 1,\n",
       " 'max_features': 'sqrt',\n",
       " 'max_depth': 31,\n",
       " 'criterion': 'gini',\n",
       " 'bootstrap': True}"
      ]
     },
     "execution_count": 51,
     "metadata": {},
     "output_type": "execute_result"
    }
   ],
   "source": [
    "RS_best_params"
   ]
  },
  {
   "cell_type": "code",
   "execution_count": 52,
   "metadata": {
    "ExecuteTime": {
     "end_time": "2020-08-01T19:05:45.704721Z",
     "start_time": "2020-08-01T19:05:43.617619Z"
    }
   },
   "outputs": [
    {
     "name": "stdout",
     "output_type": "stream",
     "text": [
      "Train Data: Accuracy Score\n",
      "\n",
      "0.9853593611357586\n",
      "\n",
      "\n",
      "Train Data: Classification Report\n",
      "\n",
      "              precision    recall  f1-score   support\n",
      "\n",
      "        10.0       1.00      1.00      1.00      7406\n",
      "        20.0       1.00      1.00      1.00      7406\n",
      "        30.0       0.93      0.98      0.96      7406\n",
      "        45.0       0.98      0.95      0.96      7406\n",
      "        65.0       0.99      0.97      0.98      7406\n",
      "        80.0       1.00      1.00      1.00      7406\n",
      "       120.0       1.00      1.00      1.00      7406\n",
      "\n",
      "    accuracy                           0.99     51842\n",
      "   macro avg       0.99      0.99      0.99     51842\n",
      "weighted avg       0.99      0.99      0.99     51842\n",
      "\n",
      "\n",
      "\n",
      "Train Data: Kappa Cohen Score\n",
      "\n",
      "0.9829192546583851\n",
      "\n",
      "\n",
      "Train Data: Confusion Matrix\n",
      "\n",
      "[[7404    0    2    0    0    0    0]\n",
      " [   0 7398    7    1    0    0    0]\n",
      " [   0    0 7273  109   23    0    1]\n",
      " [   0    0  362 7008   36    0    0]\n",
      " [   0    0  146   61 7199    0    0]\n",
      " [   0    0    1    1    0 7404    0]\n",
      " [   0    0    7    2    0    0 7397]]\n",
      "\n",
      "\n",
      "Train Data: Normalized Confusion Matrix\n",
      "\n"
     ]
    },
    {
     "data": {
      "image/png": "[encoded data removed]",
      "text/plain": [
       "<Figure size 648x576 with 2 Axes>"
      ]
     },
     "metadata": {
      "needs_background": "light"
     },
     "output_type": "display_data"
    }
   ],
   "source": [
    "fit_predict_plot(X_train_SMOTE,X_test,y_train_SMOTE, RS_best_est_rf)"
   ]
  },
  {
   "cell_type": "code",
   "execution_count": null,
   "metadata": {},
   "outputs": [],
   "source": []
  },
  {
   "cell_type": "markdown",
   "metadata": {},
   "source": [
    "### Grid Search CV"
   ]
  },
  {
   "cell_type": "code",
   "execution_count": 53,
   "metadata": {
    "ExecuteTime": {
     "end_time": "2020-08-01T19:05:45.713696Z",
     "start_time": "2020-08-01T19:05:45.705716Z"
    }
   },
   "outputs": [
    {
     "name": "stdout",
     "output_type": "stream",
     "text": [
      "{'bootstrap': [False],\n",
      " 'criterion': ['entropy'],\n",
      " 'max_depth': range(15, 30, 10),\n",
      " 'max_features': ['sqrt'],\n",
      " 'min_samples_leaf': range(1, 20, 10),\n",
      " 'min_samples_split': range(7, 31, 10),\n",
      " 'n_estimators': range(1, 40)}\n"
     ]
    }
   ],
   "source": [
    "# Create the parameter grid based on the results of random search \n",
    "\n",
    "n_estimators = range(1,40)\n",
    "criterion = ['entropy']\n",
    "max_features = ['sqrt']\n",
    "max_depth = range(15,30, 10)\n",
    "min_samples_split = range(7,31, 10)\n",
    "min_samples_leaf = range(1,20, 10)\n",
    "bootstrap = [False]\n",
    "\n",
    "                    \n",
    "\n",
    "param_grid = {'n_estimators':n_estimators,\n",
    "              'criterion':criterion,\n",
    "              'max_features': max_features,\n",
    "              'max_depth': max_depth,\n",
    "              'min_samples_split': min_samples_split,\n",
    "              'min_samples_leaf': min_samples_leaf,\n",
    "              'bootstrap': bootstrap \n",
    "              }\n",
    "\n",
    "pprint(param_grid)"
   ]
  },
  {
   "cell_type": "code",
   "execution_count": 54,
   "metadata": {
    "ExecuteTime": {
     "end_time": "2020-08-01T19:34:11.107985Z",
     "start_time": "2020-08-01T19:05:45.714693Z"
    }
   },
   "outputs": [
    {
     "name": "stdout",
     "output_type": "stream",
     "text": [
      "Fitting 3 folds for each of 468 candidates, totalling 1404 fits\n"
     ]
    },
    {
     "name": "stderr",
     "output_type": "stream",
     "text": [
      "[Parallel(n_jobs=-1)]: Using backend LokyBackend with 8 concurrent workers.\n",
      "[Parallel(n_jobs=-1)]: Done  25 tasks      | elapsed:    7.0s\n",
      "[Parallel(n_jobs=-1)]: Done 146 tasks      | elapsed:  2.7min\n",
      "[Parallel(n_jobs=-1)]: Done 349 tasks      | elapsed:  7.1min\n",
      "[Parallel(n_jobs=-1)]: Done 632 tasks      | elapsed: 12.1min\n",
      "[Parallel(n_jobs=-1)]: Done 997 tasks      | elapsed: 19.7min\n",
      "[Parallel(n_jobs=-1)]: Done 1404 out of 1404 | elapsed: 28.2min finished\n"
     ]
    },
    {
     "name": "stdout",
     "output_type": "stream",
     "text": [
      "\n",
      "\n",
      "Best Parameters:\n",
      " {'bootstrap': False, 'criterion': 'entropy', 'max_depth': 25, 'max_features': 'sqrt', 'min_samples_leaf': 1, 'min_samples_split': 7, 'n_estimators': 32}\n",
      "\n",
      "\n",
      "Best Estimator:\n",
      " RandomForestClassifier(bootstrap=False, ccp_alpha=0.0, class_weight=None,\n",
      "                       criterion='entropy', max_depth=25, max_features='sqrt',\n",
      "                       max_leaf_nodes=None, max_samples=None,\n",
      "                       min_impurity_decrease=0.0, min_impurity_split=None,\n",
      "                       min_samples_leaf=1, min_samples_split=7,\n",
      "                       min_weight_fraction_leaf=0.0, n_estimators=32,\n",
      "                       n_jobs=None, oob_score=False, random_state=0, verbose=0,\n",
      "                       warm_start=False)\n",
      "\n",
      "\n",
      "Best Score:\n",
      " 0.945475100473387\n",
      "\n",
      "\n",
      "Best Index:\n",
      " 265\n",
      "\n",
      "\n",
      "Scorer:\n",
      " make_scorer(f1_score, pos_label=None, average=weighted)\n"
     ]
    },
    {
     "data": {
      "text/plain": [
       "(RandomForestClassifier(bootstrap=False, ccp_alpha=0.0, class_weight=None,\n",
       "                        criterion='entropy', max_depth=25, max_features='sqrt',\n",
       "                        max_leaf_nodes=None, max_samples=None,\n",
       "                        min_impurity_decrease=0.0, min_impurity_split=None,\n",
       "                        min_samples_leaf=1, min_samples_split=7,\n",
       "                        min_weight_fraction_leaf=0.0, n_estimators=32,\n",
       "                        n_jobs=None, oob_score=False, random_state=0, verbose=0,\n",
       "                        warm_start=False),\n",
       " {'bootstrap': False,\n",
       "  'criterion': 'entropy',\n",
       "  'max_depth': 25,\n",
       "  'max_features': 'sqrt',\n",
       "  'min_samples_leaf': 1,\n",
       "  'min_samples_split': 7,\n",
       "  'n_estimators': 32})"
      ]
     },
     "execution_count": 54,
     "metadata": {},
     "output_type": "execute_result"
    }
   ],
   "source": [
    "grid_search_cv(X_train_SMOTE,y_train_SMOTE, RS_best_est_rf, params=param_grid)"
   ]
  },
  {
   "cell_type": "code",
   "execution_count": 55,
   "metadata": {
    "ExecuteTime": {
     "end_time": "2020-08-01T19:34:11.185774Z",
     "start_time": "2020-08-01T19:34:11.115963Z"
    }
   },
   "outputs": [
    {
     "data": {
      "text/html": [
       "<div>\n",
       "<style scoped>\n",
       "    .dataframe tbody tr th:only-of-type {\n",
       "        vertical-align: middle;\n",
       "    }\n",
       "\n",
       "    .dataframe tbody tr th {\n",
       "        vertical-align: top;\n",
       "    }\n",
       "\n",
       "    .dataframe thead th {\n",
       "        text-align: right;\n",
       "    }\n",
       "</style>\n",
       "<table border=\"1\" class=\"dataframe\">\n",
       "  <thead>\n",
       "    <tr style=\"text-align: right;\">\n",
       "      <th></th>\n",
       "      <th>mean_fit_time</th>\n",
       "      <th>std_fit_time</th>\n",
       "      <th>mean_score_time</th>\n",
       "      <th>std_score_time</th>\n",
       "      <th>param_bootstrap</th>\n",
       "      <th>param_criterion</th>\n",
       "      <th>param_max_depth</th>\n",
       "      <th>param_max_features</th>\n",
       "      <th>param_min_samples_leaf</th>\n",
       "      <th>param_min_samples_split</th>\n",
       "      <th>param_n_estimators</th>\n",
       "      <th>params</th>\n",
       "      <th>split0_test_score</th>\n",
       "      <th>split1_test_score</th>\n",
       "      <th>split2_test_score</th>\n",
       "      <th>mean_test_score</th>\n",
       "      <th>std_test_score</th>\n",
       "      <th>rank_test_score</th>\n",
       "      <th>split0_train_score</th>\n",
       "      <th>split1_train_score</th>\n",
       "      <th>split2_train_score</th>\n",
       "      <th>mean_train_score</th>\n",
       "      <th>std_train_score</th>\n",
       "    </tr>\n",
       "  </thead>\n",
       "  <tbody>\n",
       "    <tr>\n",
       "      <th>0</th>\n",
       "      <td>0.227391</td>\n",
       "      <td>0.016286</td>\n",
       "      <td>0.017953</td>\n",
       "      <td>0.000815</td>\n",
       "      <td>False</td>\n",
       "      <td>entropy</td>\n",
       "      <td>15</td>\n",
       "      <td>sqrt</td>\n",
       "      <td>1</td>\n",
       "      <td>7</td>\n",
       "      <td>1</td>\n",
       "      <td>{'bootstrap': False, 'criterion': 'entropy', '...</td>\n",
       "      <td>0.877205</td>\n",
       "      <td>0.879472</td>\n",
       "      <td>0.872266</td>\n",
       "      <td>0.876314</td>\n",
       "      <td>0.003008</td>\n",
       "      <td>451</td>\n",
       "      <td>0.928936</td>\n",
       "      <td>0.922374</td>\n",
       "      <td>0.923866</td>\n",
       "      <td>0.925059</td>\n",
       "      <td>0.002808</td>\n",
       "    </tr>\n",
       "    <tr>\n",
       "      <th>1</th>\n",
       "      <td>0.438583</td>\n",
       "      <td>0.023345</td>\n",
       "      <td>0.022850</td>\n",
       "      <td>0.003828</td>\n",
       "      <td>False</td>\n",
       "      <td>entropy</td>\n",
       "      <td>15</td>\n",
       "      <td>sqrt</td>\n",
       "      <td>1</td>\n",
       "      <td>7</td>\n",
       "      <td>2</td>\n",
       "      <td>{'bootstrap': False, 'criterion': 'entropy', '...</td>\n",
       "      <td>0.902505</td>\n",
       "      <td>0.901982</td>\n",
       "      <td>0.891246</td>\n",
       "      <td>0.898578</td>\n",
       "      <td>0.005189</td>\n",
       "      <td>418</td>\n",
       "      <td>0.956046</td>\n",
       "      <td>0.949662</td>\n",
       "      <td>0.950643</td>\n",
       "      <td>0.952117</td>\n",
       "      <td>0.002807</td>\n",
       "    </tr>\n",
       "    <tr>\n",
       "      <th>2</th>\n",
       "      <td>0.652584</td>\n",
       "      <td>0.037786</td>\n",
       "      <td>0.027530</td>\n",
       "      <td>0.005297</td>\n",
       "      <td>False</td>\n",
       "      <td>entropy</td>\n",
       "      <td>15</td>\n",
       "      <td>sqrt</td>\n",
       "      <td>1</td>\n",
       "      <td>7</td>\n",
       "      <td>3</td>\n",
       "      <td>{'bootstrap': False, 'criterion': 'entropy', '...</td>\n",
       "      <td>0.913310</td>\n",
       "      <td>0.914525</td>\n",
       "      <td>0.904737</td>\n",
       "      <td>0.910857</td>\n",
       "      <td>0.004356</td>\n",
       "      <td>278</td>\n",
       "      <td>0.964154</td>\n",
       "      <td>0.961859</td>\n",
       "      <td>0.961724</td>\n",
       "      <td>0.962579</td>\n",
       "      <td>0.001115</td>\n",
       "    </tr>\n",
       "    <tr>\n",
       "      <th>3</th>\n",
       "      <td>0.849708</td>\n",
       "      <td>0.009371</td>\n",
       "      <td>0.024144</td>\n",
       "      <td>0.002950</td>\n",
       "      <td>False</td>\n",
       "      <td>entropy</td>\n",
       "      <td>15</td>\n",
       "      <td>sqrt</td>\n",
       "      <td>1</td>\n",
       "      <td>7</td>\n",
       "      <td>4</td>\n",
       "      <td>{'bootstrap': False, 'criterion': 'entropy', '...</td>\n",
       "      <td>0.919453</td>\n",
       "      <td>0.922193</td>\n",
       "      <td>0.910413</td>\n",
       "      <td>0.917353</td>\n",
       "      <td>0.005033</td>\n",
       "      <td>203</td>\n",
       "      <td>0.970365</td>\n",
       "      <td>0.969115</td>\n",
       "      <td>0.967160</td>\n",
       "      <td>0.968880</td>\n",
       "      <td>0.001319</td>\n",
       "    </tr>\n",
       "    <tr>\n",
       "      <th>4</th>\n",
       "      <td>1.039146</td>\n",
       "      <td>0.050069</td>\n",
       "      <td>0.034952</td>\n",
       "      <td>0.005295</td>\n",
       "      <td>False</td>\n",
       "      <td>entropy</td>\n",
       "      <td>15</td>\n",
       "      <td>sqrt</td>\n",
       "      <td>1</td>\n",
       "      <td>7</td>\n",
       "      <td>5</td>\n",
       "      <td>{'bootstrap': False, 'criterion': 'entropy', '...</td>\n",
       "      <td>0.921704</td>\n",
       "      <td>0.925717</td>\n",
       "      <td>0.915663</td>\n",
       "      <td>0.921028</td>\n",
       "      <td>0.004132</td>\n",
       "      <td>181</td>\n",
       "      <td>0.972924</td>\n",
       "      <td>0.972625</td>\n",
       "      <td>0.970938</td>\n",
       "      <td>0.972162</td>\n",
       "      <td>0.000874</td>\n",
       "    </tr>\n",
       "  </tbody>\n",
       "</table>\n",
       "</div>"
      ],
      "text/plain": [
       "   mean_fit_time  std_fit_time  mean_score_time  std_score_time  \\\n",
       "0       0.227391      0.016286         0.017953        0.000815   \n",
       "1       0.438583      0.023345         0.022850        0.003828   \n",
       "2       0.652584      0.037786         0.027530        0.005297   \n",
       "3       0.849708      0.009371         0.024144        0.002950   \n",
       "4       1.039146      0.050069         0.034952        0.005295   \n",
       "\n",
       "  param_bootstrap param_criterion param_max_depth param_max_features  \\\n",
       "0           False         entropy              15               sqrt   \n",
       "1           False         entropy              15               sqrt   \n",
       "2           False         entropy              15               sqrt   \n",
       "3           False         entropy              15               sqrt   \n",
       "4           False         entropy              15               sqrt   \n",
       "\n",
       "  param_min_samples_leaf param_min_samples_split param_n_estimators  \\\n",
       "0                      1                       7                  1   \n",
       "1                      1                       7                  2   \n",
       "2                      1                       7                  3   \n",
       "3                      1                       7                  4   \n",
       "4                      1                       7                  5   \n",
       "\n",
       "                                              params  split0_test_score  \\\n",
       "0  {'bootstrap': False, 'criterion': 'entropy', '...           0.877205   \n",
       "1  {'bootstrap': False, 'criterion': 'entropy', '...           0.902505   \n",
       "2  {'bootstrap': False, 'criterion': 'entropy', '...           0.913310   \n",
       "3  {'bootstrap': False, 'criterion': 'entropy', '...           0.919453   \n",
       "4  {'bootstrap': False, 'criterion': 'entropy', '...           0.921704   \n",
       "\n",
       "   split1_test_score  split2_test_score  mean_test_score  std_test_score  \\\n",
       "0           0.879472           0.872266         0.876314        0.003008   \n",
       "1           0.901982           0.891246         0.898578        0.005189   \n",
       "2           0.914525           0.904737         0.910857        0.004356   \n",
       "3           0.922193           0.910413         0.917353        0.005033   \n",
       "4           0.925717           0.915663         0.921028        0.004132   \n",
       "\n",
       "   rank_test_score  split0_train_score  split1_train_score  \\\n",
       "0              451            0.928936            0.922374   \n",
       "1              418            0.956046            0.949662   \n",
       "2              278            0.964154            0.961859   \n",
       "3              203            0.970365            0.969115   \n",
       "4              181            0.972924            0.972625   \n",
       "\n",
       "   split2_train_score  mean_train_score  std_train_score  \n",
       "0            0.923866          0.925059         0.002808  \n",
       "1            0.950643          0.952117         0.002807  \n",
       "2            0.961724          0.962579         0.001115  \n",
       "3            0.967160          0.968880         0.001319  \n",
       "4            0.970938          0.972162         0.000874  "
      ]
     },
     "execution_count": 55,
     "metadata": {},
     "output_type": "execute_result"
    }
   ],
   "source": [
    "cv_restuls_gs_rf = cv_results_gs\n",
    "cv_restuls_gs_rf.head()"
   ]
  },
  {
   "cell_type": "code",
   "execution_count": 56,
   "metadata": {
    "ExecuteTime": {
     "end_time": "2020-08-01T19:34:11.358221Z",
     "start_time": "2020-08-01T19:34:11.189763Z"
    }
   },
   "outputs": [
    {
     "data": {
      "text/plain": [
       "RandomForestClassifier(bootstrap=False, ccp_alpha=0.0, class_weight=None,\n",
       "                       criterion='entropy', max_depth=25, max_features='sqrt',\n",
       "                       max_leaf_nodes=None, max_samples=None,\n",
       "                       min_impurity_decrease=0.0, min_impurity_split=None,\n",
       "                       min_samples_leaf=1, min_samples_split=7,\n",
       "                       min_weight_fraction_leaf=0.0, n_estimators=32,\n",
       "                       n_jobs=None, oob_score=False, random_state=0, verbose=0,\n",
       "                       warm_start=False)"
      ]
     },
     "execution_count": 56,
     "metadata": {},
     "output_type": "execute_result"
    }
   ],
   "source": [
    "GS_best_est_rf = GS_best_est\n",
    "GS_best_est_rf"
   ]
  },
  {
   "cell_type": "code",
   "execution_count": 57,
   "metadata": {
    "ExecuteTime": {
     "end_time": "2020-08-01T19:34:11.640191Z",
     "start_time": "2020-08-01T19:34:11.361213Z"
    }
   },
   "outputs": [
    {
     "data": {
      "text/plain": [
       "{'bootstrap': False,\n",
       " 'criterion': 'entropy',\n",
       " 'max_depth': 25,\n",
       " 'max_features': 'sqrt',\n",
       " 'min_samples_leaf': 1,\n",
       " 'min_samples_split': 7,\n",
       " 'n_estimators': 32}"
      ]
     },
     "execution_count": 57,
     "metadata": {},
     "output_type": "execute_result"
    }
   ],
   "source": [
    "GS_best_params"
   ]
  },
  {
   "cell_type": "code",
   "execution_count": 58,
   "metadata": {
    "ExecuteTime": {
     "end_time": "2020-08-01T19:34:30.473201Z",
     "start_time": "2020-08-01T19:34:11.644198Z"
    }
   },
   "outputs": [
    {
     "name": "stdout",
     "output_type": "stream",
     "text": [
      "Train Data: Accuracy Score\n",
      "\n",
      "0.9942131862196675\n",
      "\n",
      "\n",
      "Train Data: Classification Report\n",
      "\n",
      "              precision    recall  f1-score   support\n",
      "\n",
      "        10.0       1.00      1.00      1.00      7406\n",
      "        20.0       1.00      1.00      1.00      7406\n",
      "        30.0       0.97      0.99      0.98      7406\n",
      "        45.0       0.99      0.98      0.99      7406\n",
      "        65.0       1.00      0.99      0.99      7406\n",
      "        80.0       1.00      1.00      1.00      7406\n",
      "       120.0       1.00      1.00      1.00      7406\n",
      "\n",
      "    accuracy                           0.99     51842\n",
      "   macro avg       0.99      0.99      0.99     51842\n",
      "weighted avg       0.99      0.99      0.99     51842\n",
      "\n",
      "\n",
      "\n",
      "Train Data: Kappa Cohen Score\n",
      "\n",
      "0.9932487172562787\n",
      "\n",
      "\n",
      "Train Data: Confusion Matrix\n",
      "\n",
      "[[7404    0    2    0    0    0    0]\n",
      " [   0 7402    3    0    1    0    0]\n",
      " [   0    0 7355   31   19    0    1]\n",
      " [   0    0  169 7234    3    0    0]\n",
      " [   0    0   59    7 7340    0    0]\n",
      " [   0    0    1    0    0 7405    0]\n",
      " [   0    0    4    0    0    0 7402]]\n",
      "\n",
      "\n",
      "Train Data: Normalized Confusion Matrix\n",
      "\n"
     ]
    },
    {
     "data": {
      "image/png": "[encoded data removed]",
      "text/plain": [
       "<Figure size 648x576 with 2 Axes>"
      ]
     },
     "metadata": {
      "needs_background": "light"
     },
     "output_type": "display_data"
    }
   ],
   "source": [
    "# Evaluating model performance ofrom Grid Search CV\n",
    "fit_predict_plot(X_train_SMOTE,X_test,y_train_SMOTE, GS_best_est_rf)"
   ]
  },
  {
   "cell_type": "code",
   "execution_count": 59,
   "metadata": {
    "ExecuteTime": {
     "end_time": "2020-08-01T19:34:30.483174Z",
     "start_time": "2020-08-01T19:34:30.478188Z"
    }
   },
   "outputs": [],
   "source": [
    "# Prediction Scores\n",
    "y_pred_test_rf = y_pred_test"
   ]
  },
  {
   "cell_type": "code",
   "execution_count": null,
   "metadata": {},
   "outputs": [],
   "source": []
  },
  {
   "cell_type": "markdown",
   "metadata": {},
   "source": [
    "### Running the model with best parameters from GS CV"
   ]
  },
  {
   "cell_type": "code",
   "execution_count": 60,
   "metadata": {
    "ExecuteTime": {
     "end_time": "2020-08-01T19:35:01.497184Z",
     "start_time": "2020-08-01T19:34:30.487165Z"
    }
   },
   "outputs": [
    {
     "data": {
      "image/png": "[encoded data removed]",
      "text/plain": [
       "<Figure size 720x432 with 1 Axes>"
      ]
     },
     "metadata": {
      "needs_background": "light"
     },
     "output_type": "display_data"
    }
   ],
   "source": [
    "sk = StratifiedKFold(n_splits=3, random_state=0, shuffle=True)\n",
    "cv_results = cross_val_score(GS_best_est_rf, X_train_SMOTE, y_train_SMOTE, cv=sk, scoring='f1_weighted')\n",
    "plt.figure(figsize=(10,6))\n",
    "sns.distplot(cv_results)\n",
    "plt.xlabel('Train scores')\n",
    "plt.ylabel('Frequency')\n",
    "plt.title('DECISION TREE \\n\\n Cross Validation Average Train score: {}'.format(np.mean(cv_results)))\n",
    "plt.show()"
   ]
  },
  {
   "cell_type": "markdown",
   "metadata": {},
   "source": [
    "### Making Predictions using cross validation"
   ]
  },
  {
   "cell_type": "code",
   "execution_count": 61,
   "metadata": {
    "ExecuteTime": {
     "end_time": "2020-08-01T19:36:01.388253Z",
     "start_time": "2020-08-01T19:35:01.501175Z"
    }
   },
   "outputs": [
    {
     "name": "stdout",
     "output_type": "stream",
     "text": [
      "Train Data: Accuracy Score\n",
      "\n",
      "0.9493075112842869\n",
      "\n",
      "\n",
      "Train Data: Classification Report\n",
      "\n",
      "              precision    recall  f1-score   support\n",
      "\n",
      "        10.0       1.00      1.00      1.00      7406\n",
      "        20.0       1.00      1.00      1.00      7406\n",
      "        30.0       0.85      0.91      0.88      7406\n",
      "        45.0       0.87      0.83      0.85      7406\n",
      "        65.0       0.94      0.91      0.92      7406\n",
      "        80.0       1.00      1.00      1.00      7406\n",
      "       120.0       1.00      1.00      1.00      7406\n",
      "\n",
      "    accuracy                           0.95     51842\n",
      "   macro avg       0.95      0.95      0.95     51842\n",
      "weighted avg       0.95      0.95      0.95     51842\n",
      "\n",
      "\n",
      "\n",
      "Train Data: Kappa Cohen Score\n",
      "\n",
      "0.9408587631650014\n",
      "\n",
      "\n",
      "Train Data: Confusion Matrix\n",
      "\n",
      "[[7403    0    3    0    0    0    0]\n",
      " [   0 7391   12    2    1    0    0]\n",
      " [   0   10 6717  571  102    0    6]\n",
      " [   1    5  880 6167  345    1    7]\n",
      " [   0    6  278  364 6753    0    5]\n",
      " [   0    0    3    0    1 7402    0]\n",
      " [   0    0   19    5    1    0 7381]]\n",
      "\n",
      "\n",
      "Train Data: Normalized Confusion Matrix\n",
      "\n"
     ]
    },
    {
     "data": {
      "image/png": "[encoded data removed]",
      "text/plain": [
       "<Figure size 648x576 with 2 Axes>"
      ]
     },
     "metadata": {
      "needs_background": "light"
     },
     "output_type": "display_data"
    }
   ],
   "source": [
    "y_rf_pred_train = predict_cv(X_train_SMOTE, X_test, y_train_SMOTE, GS_best_est_rf)"
   ]
  },
  {
   "cell_type": "code",
   "execution_count": 62,
   "metadata": {
    "ExecuteTime": {
     "end_time": "2020-08-01T19:36:01.399218Z",
     "start_time": "2020-08-01T19:36:01.393229Z"
    }
   },
   "outputs": [],
   "source": [
    "# Random Forest does better than Decision Tree in terms of overall accuracy and Kappa Cohen Scores"
   ]
  },
  {
   "cell_type": "code",
   "execution_count": null,
   "metadata": {},
   "outputs": [],
   "source": []
  },
  {
   "cell_type": "code",
   "execution_count": 63,
   "metadata": {
    "ExecuteTime": {
     "end_time": "2020-08-01T19:36:02.061770Z",
     "start_time": "2020-08-01T19:36:01.403208Z"
    }
   },
   "outputs": [],
   "source": [
    "# We hence conclude that our Random Forest Hyper Tuned classifier prove to be most effective."
   ]
  },
  {
   "cell_type": "code",
   "execution_count": null,
   "metadata": {},
   "outputs": [],
   "source": []
  },
  {
   "cell_type": "code",
   "execution_count": 66,
   "metadata": {
    "ExecuteTime": {
     "end_time": "2020-08-01T20:29:14.465877Z",
     "start_time": "2020-08-01T20:29:14.095053Z"
    }
   },
   "outputs": [],
   "source": [
    "# Export the imputed data to csv files \n",
    "pd.DataFrame(y_pred_test_rf).to_csv('final_test_predictions.csv', index=False, header=True)"
   ]
  },
  {
   "cell_type": "code",
   "execution_count": null,
   "metadata": {},
   "outputs": [],
   "source": []
  }
 ],
 "metadata": {
  "kernelspec": {
   "display_name": "Python 3",
   "language": "python",
   "name": "python3"
  },
  "language_info": {
   "codemirror_mode": {
    "name": "ipython",
    "version": 3
   },
   "file_extension": ".py",
   "mimetype": "text/x-python",
   "name": "python",
   "nbconvert_exporter": "python",
   "pygments_lexer": "ipython3",
   "version": "3.7.7"
  },
  "toc": {
   "base_numbering": 1,
   "nav_menu": {},
   "number_sections": true,
   "sideBar": true,
   "skip_h1_title": false,
   "title_cell": "Table of Contents",
   "title_sidebar": "Contents",
   "toc_cell": false,
   "toc_position": {
    "height": "calc(100% - 180px)",
    "left": "10px",
    "top": "150px",
    "width": "307.2px"
   },
   "toc_section_display": true,
   "toc_window_display": true
  }
 },
 "nbformat": 4,
 "nbformat_minor": 4
}
